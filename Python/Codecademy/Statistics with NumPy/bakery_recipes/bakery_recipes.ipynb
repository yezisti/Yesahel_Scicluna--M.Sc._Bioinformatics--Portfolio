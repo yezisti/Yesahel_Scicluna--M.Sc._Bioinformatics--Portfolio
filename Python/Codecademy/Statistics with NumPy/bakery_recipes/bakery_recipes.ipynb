{
 "cells": [
  {
   "cell_type": "markdown",
   "id": "1e590e29",
   "metadata": {},
   "source": [
    "## Bakery Recipes\n",
    "\n",
    "#### Author: Yesahel Scicluna \n",
    "\n",
    "#### Source: Codecademy. Learn Statistics with NumPy. Practice Project - Betty's Bakery\n",
    "\n",
    "#### Concepts: NumPy, element-wise operation, nd-arrays\n",
    "\n",
    "#### Required Data Files: recipes.csv"
   ]
  },
  {
   "cell_type": "markdown",
   "id": "2c9cb41f",
   "metadata": {},
   "source": [
    "#### Task Description\n",
    "Betty has always used her grandmother’s recipe book to make cookies, cakes, pancakes, and bread for her friends and family. She’s getting ready to open a business and will need to start buying all of her milk, eggs, sugar, flour, and butter in bulk. Help Betty figure out how much she needs to buy using NumPy arrays describing her recipes."
   ]
  },
  {
   "cell_type": "markdown",
   "id": "7b4a5813",
   "metadata": {},
   "source": [
    "#### Task 1\n",
    "Start by importing NumPy as `np`."
   ]
  },
  {
   "cell_type": "code",
   "execution_count": 1,
   "id": "59f803c0",
   "metadata": {},
   "outputs": [],
   "source": [
    "import numpy as np"
   ]
  },
  {
   "cell_type": "markdown",
   "id": "0af8d0ed",
   "metadata": {},
   "source": [
    "#### Task 2\n",
    "All of Betty’s recipes call for milk, eggs, sugar, flour, and butter. For example, her cupcake recipe calls for:\n",
    " - Flour: 2 cups\n",
    " - Sugar: 0.75 cups\n",
    " - Eggs: 2 eggs\n",
    " - Milk: 1 cups\n",
    " - Butter: 0.5 cups\n",
    "\n",
    "Create a NumPy array that represents this data. Each element should be a number. Save this array as `cupcakes`."
   ]
  },
  {
   "cell_type": "code",
   "execution_count": 2,
   "id": "ed15c63c",
   "metadata": {},
   "outputs": [
    {
     "data": {
      "text/plain": [
       "array([2.  , 0.75, 2.  , 1.  , 0.5 ])"
      ]
     },
     "execution_count": 2,
     "metadata": {},
     "output_type": "execute_result"
    }
   ],
   "source": [
    "cupcakes = np.array([2, 0.75, 2, 1, 0.5])\n",
    "cupcakes"
   ]
  },
  {
   "cell_type": "markdown",
   "id": "6994233f",
   "metadata": {},
   "source": [
    "#### Task 3\n",
    "Betty’s assistant has compiled all of her recipes into a csv (comma-separated variable) file called recipes.csv. Load this file into a variable called `recipes`."
   ]
  },
  {
   "cell_type": "code",
   "execution_count": 3,
   "id": "f3d08d63",
   "metadata": {},
   "outputs": [],
   "source": [
    "recipes = np.genfromtxt(r'https://raw.githubusercontent.com/yezisti/Yesahel_Scicluna--M.Sc._Bioinformatics--Portfolio/main/Python/Codecademy/Statistics%20with%20NumPy/bakery_recipes/recipes.csv', delimiter = ',') "
   ]
  },
  {
   "cell_type": "markdown",
   "id": "0f489b76",
   "metadata": {},
   "source": [
    "#### Task 4\n",
    "Display `recipes`. Each row represents a different recipe. Each column represents a different ingredient."
   ]
  },
  {
   "cell_type": "code",
   "execution_count": 4,
   "id": "2011c9d9",
   "metadata": {},
   "outputs": [
    {
     "data": {
      "text/plain": [
       "array([[2.   , 0.75 , 2.   , 1.   , 0.5  ],\n",
       "       [1.   , 0.125, 1.   , 1.   , 0.125],\n",
       "       [2.75 , 1.5  , 1.   , 0.   , 1.   ],\n",
       "       [4.   , 0.5  , 2.   , 2.   , 0.5  ]])"
      ]
     },
     "execution_count": 4,
     "metadata": {},
     "output_type": "execute_result"
    }
   ],
   "source": [
    "recipes"
   ]
  },
  {
   "cell_type": "markdown",
   "id": "840460e7",
   "metadata": {},
   "source": [
    "#### Task 5\n",
    "The 3rd column represents the number of eggs that each recipe needs. Select all elements from the 3rd column and save them to the variable `eggs`."
   ]
  },
  {
   "cell_type": "code",
   "execution_count": 5,
   "id": "b9db7d32",
   "metadata": {},
   "outputs": [
    {
     "data": {
      "text/plain": [
       "array([2., 1., 1., 2.])"
      ]
     },
     "execution_count": 5,
     "metadata": {},
     "output_type": "execute_result"
    }
   ],
   "source": [
    "eggs = recipes[:,2]\n",
    "eggs"
   ]
  },
  {
   "cell_type": "markdown",
   "id": "a8566553",
   "metadata": {},
   "source": [
    "#### Task 6\n",
    "Which recipes require exactly 1 egg? Use a logical statement to get `True` or `False` for each value of `eggs`."
   ]
  },
  {
   "cell_type": "code",
   "execution_count": 6,
   "id": "0a6fb1ec",
   "metadata": {},
   "outputs": [
    {
     "data": {
      "text/plain": [
       "array([False,  True,  True, False])"
      ]
     },
     "execution_count": 6,
     "metadata": {},
     "output_type": "execute_result"
    }
   ],
   "source": [
    "one_egg = eggs == 1\n",
    "one_egg"
   ]
  },
  {
   "cell_type": "markdown",
   "id": "0ff23831",
   "metadata": {},
   "source": [
    "#### Task 7\n",
    "Betty is going to make 2 batches of cupcakes (1st row) and 1 batch of cookies (3rd row).\n",
    "You already have a variable for `cupcakes`. Create a variable for `cookies` with the data from the 3rd row."
   ]
  },
  {
   "cell_type": "code",
   "execution_count": 7,
   "id": "d9b38cd7",
   "metadata": {},
   "outputs": [
    {
     "data": {
      "text/plain": [
       "array([2.75, 1.5 , 1.  , 0.  , 1.  ])"
      ]
     },
     "execution_count": 7,
     "metadata": {},
     "output_type": "execute_result"
    }
   ],
   "source": [
    "cookies = recipes[2, :]\n",
    "cookies"
   ]
  },
  {
   "cell_type": "markdown",
   "id": "a75496d1",
   "metadata": {},
   "source": [
    "#### Task 8\n",
    "Get the number of ingredients for a double batch of `cupcakes` by using multiplication on cupcakes. Save your new variable to `double_batch`."
   ]
  },
  {
   "cell_type": "code",
   "execution_count": 8,
   "id": "fc0e93c3",
   "metadata": {
    "scrolled": true
   },
   "outputs": [
    {
     "data": {
      "text/plain": [
       "array([4. , 1.5, 4. , 2. , 1. ])"
      ]
     },
     "execution_count": 8,
     "metadata": {},
     "output_type": "execute_result"
    }
   ],
   "source": [
    "double_batch = cupcakes * 2\n",
    "double_batch"
   ]
  },
  {
   "cell_type": "markdown",
   "id": "65d2ff3e",
   "metadata": {},
   "source": [
    "#### Task 9\n",
    "Create a new variable called `grocery_list` by adding `cookies` and `double_batch`."
   ]
  },
  {
   "cell_type": "code",
   "execution_count": 9,
   "id": "54d01ae5",
   "metadata": {},
   "outputs": [
    {
     "data": {
      "text/plain": [
       "array([6.75, 3.  , 5.  , 2.  , 2.  ])"
      ]
     },
     "execution_count": 9,
     "metadata": {},
     "output_type": "execute_result"
    }
   ],
   "source": [
    "grocery_list = cookies + double_batch\n",
    "grocery_list"
   ]
  }
 ],
 "metadata": {
  "kernelspec": {
   "display_name": "Python 3 (ipykernel)",
   "language": "python",
   "name": "python3"
  },
  "language_info": {
   "codemirror_mode": {
    "name": "ipython",
    "version": 3
   },
   "file_extension": ".py",
   "mimetype": "text/x-python",
   "name": "python",
   "nbconvert_exporter": "python",
   "pygments_lexer": "ipython3",
   "version": "3.11.7"
  }
 },
 "nbformat": 4,
 "nbformat_minor": 5
}
