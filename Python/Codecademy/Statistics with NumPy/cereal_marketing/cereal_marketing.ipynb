{
 "cells": [
  {
   "cell_type": "markdown",
   "id": "5d41ff58",
   "metadata": {},
   "source": [
    "## Cereal Marketing\n",
    "\n",
    "#### Author: Yesahel Scicluna \n",
    "\n",
    "#### Source: Codecademy. Learn Statistics with NumPy. Practice Project - CrunchieMunchies\n",
    "\n",
    "#### Concepts: NumPy, measures of central location, measures of dispersion\n",
    "\n",
    "#### Required Data Files: cereals.csv"
   ]
  },
  {
   "cell_type": "markdown",
   "id": "1ab62a77",
   "metadata": {},
   "source": [
    "#### Task Description\n",
    "You work in marketing for a food company YummyCorps, which is developing a new kind of tasty, wholesome cereal called CrunchieMunchies. You want to demonstrate to consumers how healthy your cereal is in comparison to other leading brands, so you’ve dug up nutritional data on several different competitors. Your task is to use NumPy statistical calculations to analyze this data and prove that your CrunchieMunchies cereal is the healthiest choice for consumers. "
   ]
  },
  {
   "cell_type": "markdown",
   "id": "d593420b",
   "metadata": {},
   "source": [
    "#### Task 1\n",
    "First, import `numpy`. "
   ]
  },
  {
   "cell_type": "code",
   "execution_count": 1,
   "id": "0ab74446",
   "metadata": {},
   "outputs": [],
   "source": [
    "import numpy as np"
   ]
  },
  {
   "cell_type": "markdown",
   "id": "e3d57ce2",
   "metadata": {},
   "source": [
    "#### Task 2\n",
    "Look over the cereals.csv file. This file contains the reported calorie amounts for different cereal brands. Load the data from the file and save it as `calorie_stats`. "
   ]
  },
  {
   "cell_type": "code",
   "execution_count": 2,
   "id": "cd8913fb",
   "metadata": {},
   "outputs": [
    {
     "data": {
      "text/plain": [
       "array([ 70., 120.,  70.,  50., 110., 110., 110., 130.,  90.,  90., 120.,\n",
       "       110., 120., 110., 110., 110., 100., 110., 110., 110., 100., 110.,\n",
       "       100., 100., 110., 110., 100., 120., 120., 110., 100., 110., 100.,\n",
       "       110., 120., 120., 110., 110., 110., 140., 110., 100., 110., 100.,\n",
       "       150., 150., 160., 100., 120., 140.,  90., 130., 120., 100.,  50.,\n",
       "        50., 100., 100., 120., 100.,  90., 110., 110.,  80.,  90.,  90.,\n",
       "       110., 110.,  90., 110., 140., 100., 110., 110., 100., 100., 110.])"
      ]
     },
     "execution_count": 2,
     "metadata": {},
     "output_type": "execute_result"
    }
   ],
   "source": [
    "calorie_stats = np.genfromtxt(r'https://raw.githubusercontent.com/yezisti/Yesahel_Scicluna--M.Sc._Bioinformatics--Portfolio/main/Python/Codecademy/Statistics%20with%20NumPy/cereal_marketing/cereals.csv', delimiter=',')\n",
    "calorie_stats"
   ]
  },
  {
   "cell_type": "markdown",
   "id": "0f918608",
   "metadata": {},
   "source": [
    "#### Task 3\n",
    "There are 60 calories per serving of CrunchieMunchies. How much higher is the average calorie count of your competition? Save the answer to the variable `average_calories` and print the variable to see the answer.\n"
   ]
  },
  {
   "cell_type": "code",
   "execution_count": 3,
   "id": "aedfa3fb",
   "metadata": {},
   "outputs": [
    {
     "name": "stdout",
     "output_type": "stream",
     "text": [
      "mean no. of calories: 106.88311688311688, difference: 46.883116883116884\n"
     ]
    }
   ],
   "source": [
    "average_calories = np.mean(calorie_stats)\n",
    "difference = average_calories - 60\n",
    "print(f'mean no. of calories: {average_calories}, difference: {difference}')"
   ]
  },
  {
   "cell_type": "markdown",
   "id": "52083c01",
   "metadata": {},
   "source": [
    "#### Task 4\n",
    "Does the average calorie count adequately reflect the distribution of the dataset? Let’s sort the data and see. Sort the data and save the result to the variable `calorie_stats_sorted`. Print the sorted data to the terminal.\n"
   ]
  },
  {
   "cell_type": "code",
   "execution_count": 4,
   "id": "6bab9ff2",
   "metadata": {},
   "outputs": [
    {
     "data": {
      "text/plain": [
       "array([ 50.,  50.,  50.,  70.,  70.,  80.,  90.,  90.,  90.,  90.,  90.,\n",
       "        90.,  90., 100., 100., 100., 100., 100., 100., 100., 100., 100.,\n",
       "       100., 100., 100., 100., 100., 100., 100., 100., 110., 110., 110.,\n",
       "       110., 110., 110., 110., 110., 110., 110., 110., 110., 110., 110.,\n",
       "       110., 110., 110., 110., 110., 110., 110., 110., 110., 110., 110.,\n",
       "       110., 110., 110., 110., 120., 120., 120., 120., 120., 120., 120.,\n",
       "       120., 120., 120., 130., 130., 140., 140., 140., 150., 150., 160.])"
      ]
     },
     "execution_count": 4,
     "metadata": {},
     "output_type": "execute_result"
    }
   ],
   "source": [
    "calorie_stats_sorted = np.sort(calorie_stats)\n",
    "calorie_stats_sorted"
   ]
  },
  {
   "cell_type": "markdown",
   "id": "f372a71c",
   "metadata": {},
   "source": [
    "#### Task 5\n",
    "Looks like the majority of the cereals are higher than the mean. Let’s see if the median is a better representative of the dataset. Calculate the median of the dataset and save your answer to `median_calories`. Print the median so you can see how it compares to the mean. "
   ]
  },
  {
   "cell_type": "code",
   "execution_count": 5,
   "id": "905e1190",
   "metadata": {},
   "outputs": [
    {
     "name": "stdout",
     "output_type": "stream",
     "text": [
      "median: 110.0, mean: 106.88311688311688\n"
     ]
    }
   ],
   "source": [
    "median_calories = np.median(calorie_stats)\n",
    "print(f'median: {median_calories}, mean: {average_calories}')"
   ]
  },
  {
   "cell_type": "markdown",
   "id": "c7243462",
   "metadata": {},
   "source": [
    "#### Task 6\n",
    "While the median demonstrates that at least half of our values are over 100 calories, it would be more impressive to show that a significant portion of the competition has a higher calorie count that CrunchieMunchies. Calculate different percentiles and print them until you find the lowest percentile that is greater than 60 calories. Save this value to the variable `nth_percentile`."
   ]
  },
  {
   "cell_type": "code",
   "execution_count": 6,
   "id": "c59784b9",
   "metadata": {},
   "outputs": [
    {
     "data": {
      "text/plain": [
       "110.0"
      ]
     },
     "execution_count": 6,
     "metadata": {},
     "output_type": "execute_result"
    }
   ],
   "source": [
    "np.percentile(calorie_stats, 40)"
   ]
  },
  {
   "cell_type": "code",
   "execution_count": 7,
   "id": "8ceee79d",
   "metadata": {},
   "outputs": [
    {
     "data": {
      "text/plain": [
       "100.0"
      ]
     },
     "execution_count": 7,
     "metadata": {},
     "output_type": "execute_result"
    }
   ],
   "source": [
    "np.percentile(calorie_stats, 20)"
   ]
  },
  {
   "cell_type": "code",
   "execution_count": 8,
   "id": "3523ba05",
   "metadata": {},
   "outputs": [
    {
     "data": {
      "text/plain": [
       "70.0"
      ]
     },
     "execution_count": 8,
     "metadata": {},
     "output_type": "execute_result"
    }
   ],
   "source": [
    "np.percentile(calorie_stats, 5)"
   ]
  },
  {
   "cell_type": "code",
   "execution_count": 9,
   "id": "7da5ff98",
   "metadata": {},
   "outputs": [
    {
     "data": {
      "text/plain": [
       "55.599999999999994"
      ]
     },
     "execution_count": 9,
     "metadata": {},
     "output_type": "execute_result"
    }
   ],
   "source": [
    "np.percentile(calorie_stats, 3)"
   ]
  },
  {
   "cell_type": "code",
   "execution_count": 10,
   "id": "52569870",
   "metadata": {},
   "outputs": [
    {
     "data": {
      "text/plain": [
       "70.0"
      ]
     },
     "execution_count": 10,
     "metadata": {},
     "output_type": "execute_result"
    }
   ],
   "source": [
    "np.percentile(calorie_stats, 4)"
   ]
  },
  {
   "cell_type": "code",
   "execution_count": 11,
   "id": "f4e4e2fa",
   "metadata": {},
   "outputs": [
    {
     "data": {
      "text/plain": [
       "60.007999999999996"
      ]
     },
     "execution_count": 11,
     "metadata": {},
     "output_type": "execute_result"
    }
   ],
   "source": [
    "# ... After a few more trials:\n",
    "np.percentile(calorie_stats, 3.29)"
   ]
  },
  {
   "cell_type": "code",
   "execution_count": 12,
   "id": "8e60ee25",
   "metadata": {},
   "outputs": [],
   "source": [
    "nth_percentile = 3.29"
   ]
  },
  {
   "cell_type": "markdown",
   "id": "c365d3b9",
   "metadata": {},
   "source": [
    "#### Task 7\n",
    "While the percentile shows us that the majority of the competition has a much higher calorie count, it’s an awkward concept to use in marketing materials. Instead, let’s calculate the percentage of cereals that have more than 60 calories per serving. Save your answer to the variable `more_calories` and print it."
   ]
  },
  {
   "cell_type": "code",
   "execution_count": 13,
   "id": "e5a7c02f",
   "metadata": {},
   "outputs": [
    {
     "name": "stdout",
     "output_type": "stream",
     "text": [
      "CrunchieMunchies contains less calories than 96.71 % of the competition\n"
     ]
    }
   ],
   "source": [
    "more_calories = 100 - nth_percentile\n",
    "print(f'CrunchieMunchies contains less calories than {more_calories} % of the competition')"
   ]
  },
  {
   "cell_type": "markdown",
   "id": "e00e5856",
   "metadata": {},
   "source": [
    "#### Task 8\n",
    "That’s a really high percentage. That’s going to be very useful when we promote CrunchieMunchies. But one question is, how much variation exists in the dataset? Can we make the generalization that most cereals have around 100 calories or is the spread even greater? Calculate the amount of variation by finding the standard deviation. Save your answer to `calorie_std` and print it. How can we incorporate this value into our analysis?"
   ]
  },
  {
   "cell_type": "code",
   "execution_count": 14,
   "id": "cee16d85",
   "metadata": {},
   "outputs": [
    {
     "name": "stdout",
     "output_type": "stream",
     "text": [
      "mean: 106.88311688311688, SD: 19.35718533390827\n"
     ]
    }
   ],
   "source": [
    "calorie_std = np.std(calorie_stats)\n",
    "print(f'mean: {average_calories}, SD: {calorie_std}')"
   ]
  },
  {
   "cell_type": "code",
   "execution_count": 15,
   "id": "2f538d1b",
   "metadata": {},
   "outputs": [],
   "source": [
    "# 68 % of cereals contain 87.52 - 126.24 calories (mean +-1 sd)\n",
    "# 95 % of cereals contain 68.16 - 145.6 calories (mean +-2 sd)\n",
    "# CrunchieMunchies contains still less calories than cereals with (mean -2 sd) calories"
   ]
  }
 ],
 "metadata": {
  "kernelspec": {
   "display_name": "Python 3 (ipykernel)",
   "language": "python",
   "name": "python3"
  },
  "language_info": {
   "codemirror_mode": {
    "name": "ipython",
    "version": 3
   },
   "file_extension": ".py",
   "mimetype": "text/x-python",
   "name": "python",
   "nbconvert_exporter": "python",
   "pygments_lexer": "ipython3",
   "version": "3.11.7"
  }
 },
 "nbformat": 4,
 "nbformat_minor": 5
}
