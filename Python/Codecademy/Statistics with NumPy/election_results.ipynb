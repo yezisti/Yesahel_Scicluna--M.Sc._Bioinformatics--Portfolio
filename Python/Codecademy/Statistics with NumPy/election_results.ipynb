{
 "cells": [
  {
   "cell_type": "markdown",
   "id": "87318b55",
   "metadata": {},
   "source": [
    "## Election Results\n",
    "\n",
    "#### Author: Yesahel Scicluna \n",
    "\n",
    "#### Source: Codecademy. Learn Statistics with NumPy. Practice Project - Election Results\n",
    "\n",
    "#### Concepts: NumPy, histogram plots, binomial distribution\n",
    "\n",
    "#### Required Data Files: None"
   ]
  },
  {
   "cell_type": "markdown",
   "id": "3c240961",
   "metadata": {},
   "source": [
    "#### Task Description\n",
    "You’re part of an impartial research group that conducts phone surveys prior to local elections. During this election season, the group conducted a survey to determine how many people would vote for Cynthia Ceballos vs. Justin Kerrigan in the mayoral election. Now that the election has occurred, your group wants to compare the survey responses to the actual results. Was your survey a good indicator? Let’s find out! "
   ]
  },
  {
   "cell_type": "markdown",
   "id": "ece5de0f",
   "metadata": {},
   "source": [
    "#### Task 1\n",
    "First, import `numpy` and `matplotlib`. "
   ]
  },
  {
   "cell_type": "code",
   "execution_count": 1,
   "id": "1eb40d9f",
   "metadata": {},
   "outputs": [],
   "source": [
    "import numpy as np\n",
    "from matplotlib import pyplot as plt"
   ]
  },
  {
   "cell_type": "markdown",
   "id": "63d5c5e3",
   "metadata": {},
   "source": [
    "#### Task 2\n",
    "Below is a list of the different survey responses:"
   ]
  },
  {
   "cell_type": "code",
   "execution_count": 2,
   "id": "f6b0fc62",
   "metadata": {},
   "outputs": [],
   "source": [
    "survey_responses = [\n",
    "    'Ceballos', 'Kerrigan', 'Ceballos', 'Ceballos', 'Ceballos','Kerrigan', 'Kerrigan', 'Ceballos', 'Ceballos', 'Ceballos', \n",
    "    'Kerrigan', 'Kerrigan', 'Ceballos', 'Ceballos', 'Kerrigan', 'Kerrigan', 'Ceballos', 'Ceballos', 'Kerrigan', 'Kerrigan',\n",
    "    'Kerrigan', 'Kerrigan', 'Kerrigan', 'Kerrigan', 'Ceballos', 'Ceballos', 'Ceballos', 'Ceballos', 'Ceballos', 'Ceballos',\n",
    "    'Kerrigan', 'Kerrigan', 'Ceballos', 'Ceballos', 'Ceballos', 'Kerrigan', 'Kerrigan', 'Ceballos', 'Ceballos', 'Kerrigan',\n",
    "    'Kerrigan', 'Ceballos', 'Ceballos', 'Kerrigan', 'Kerrigan', 'Kerrigan', 'Kerrigan', 'Kerrigan', 'Kerrigan', 'Ceballos',\n",
    "    'Kerrigan', 'Kerrigan', 'Ceballos', 'Ceballos', 'Ceballos', 'Kerrigan', 'Kerrigan', 'Ceballos', 'Ceballos', 'Kerrigan',\n",
    "    'Kerrigan', 'Ceballos', 'Ceballos', 'Kerrigan', 'Kerrigan', 'Kerrigan', 'Kerrigan', 'Kerrigan', 'Kerrigan', 'Ceballos']"
   ]
  },
  {
   "cell_type": "markdown",
   "id": "e309cf34",
   "metadata": {},
   "source": [
    "Calculate the number of people who answered ‘Ceballos’ and save the answer to the variable `total_ceballos`. Print the variable to see its value. "
   ]
  },
  {
   "cell_type": "code",
   "execution_count": 3,
   "id": "f738a3c1",
   "metadata": {},
   "outputs": [
    {
     "name": "stdout",
     "output_type": "stream",
     "text": [
      "Number of people who voted Ceballos: 33\n"
     ]
    }
   ],
   "source": [
    "total_ceballos = survey_responses.count('Ceballos')\n",
    "print('Number of people who voted Ceballos:', total_ceballos)"
   ]
  },
  {
   "cell_type": "markdown",
   "id": "69188886",
   "metadata": {},
   "source": [
    "#### Task 3\n",
    "Calculate the percentage of people in the survey who voted for Ceballos and save it to the variable `percentage_ceballos`. Print the variable to see its value."
   ]
  },
  {
   "cell_type": "code",
   "execution_count": 4,
   "id": "b6ca72c6",
   "metadata": {},
   "outputs": [
    {
     "name": "stdout",
     "output_type": "stream",
     "text": [
      "Percentage of people who voted Ceballos: 47.14285714285714 %\n"
     ]
    }
   ],
   "source": [
    "# numpy.mean() divides the number of array elements that meet the specified criterion\n",
    "# by the length of the array\n",
    "survey_responses_array = np.array(survey_responses)\n",
    "percentage_ceballos = np.mean(survey_responses_array == 'Ceballos') * 100\n",
    "print('Percentage of people who voted Ceballos:', percentage_ceballos, '%')"
   ]
  },
  {
   "cell_type": "markdown",
   "id": "9423b3c9",
   "metadata": {},
   "source": [
    "#### Task 4\n",
    "In the real election, 54% of the 10,000 town population voted for Cynthia Ceballos. Your supervisors are concerned because this is a very different outcome than what the poll predicted. They want you to determine if there is something wrong with the poll or if given the sample size, it was an entirely reasonable result. Generate a binomial distribution that takes the number of total survey responses, the actual success rate, and the size of the town’s population as its parameters. Then divide the distribution by the number of survey responses. Save your calculation to the variable `possible_surveys`."
   ]
  },
  {
   "cell_type": "code",
   "execution_count": 5,
   "id": "7f9f5519",
   "metadata": {},
   "outputs": [
    {
     "data": {
      "text/plain": [
       "70.0"
      ]
     },
     "execution_count": 5,
     "metadata": {},
     "output_type": "execute_result"
    }
   ],
   "source": [
    "len_survey = float(len(survey_responses))\n",
    "len_survey"
   ]
  },
  {
   "cell_type": "code",
   "execution_count": 6,
   "id": "9e4b4f80",
   "metadata": {},
   "outputs": [],
   "source": [
    "# numpy.random.binomial args: no. of trials, probability of single occurence, no. of experiments\n",
    "possible_surveys = np.random.binomial(len_survey, 0.54, size = 10000) / len_survey"
   ]
  },
  {
   "cell_type": "markdown",
   "id": "17c85e47",
   "metadata": {},
   "source": [
    "#### Task 5\n",
    "Plot a histogram of possible_surveys with a range of 0-1 and 20 bins."
   ]
  },
  {
   "cell_type": "code",
   "execution_count": 7,
   "id": "651bc0fc",
   "metadata": {},
   "outputs": [
    {
     "data": {
      "image/png": "[encoded data removed]",
      "text/plain": [
       "<Figure size 640x480 with 1 Axes>"
      ]
     },
     "metadata": {},
     "output_type": "display_data"
    }
   ],
   "source": [
    "plt.hist(possible_surveys, range = (0, 1), bins = 20)\n",
    "plt.xlabel('Fraction of votes going to Cynthia Ceballos')\n",
    "plt.ylabel('Frequency')\n",
    "plt.show()\n",
    "plt.close()"
   ]
  },
  {
   "cell_type": "markdown",
   "id": "0c169d38",
   "metadata": {},
   "source": [
    "#### Task 6\n",
    "As we saw, 47% of people we surveyed said they would vote for Ceballos, but 54% of people voted for Ceballos in the actual election.\n",
    "Calculate the percentage of surveys that could have an outcome of Ceballos receiving less than 50% of the vote and save it to the variable `ceballos_loss_surveys`. Print the variable."
   ]
  },
  {
   "cell_type": "code",
   "execution_count": 8,
   "id": "d4effb34",
   "metadata": {},
   "outputs": [
    {
     "name": "stdout",
     "output_type": "stream",
     "text": [
      "Percentage of surveys in which Ceballos may receive less than 50% of the vote: 21.85 %\n"
     ]
    }
   ],
   "source": [
    "# numpy.mean() can be used to calculate a percentage in this scenario as well\n",
    "ceballos_loss_surveys = np.mean(possible_surveys < 0.5) * 100\n",
    "print('Percentage of surveys in which Ceballos may receive' + \\\n",
    "      ' less than 50% of the vote:', ceballos_loss_surveys, '%')"
   ]
  },
  {
   "cell_type": "markdown",
   "id": "32416079",
   "metadata": {},
   "source": [
    "#### Task 7\n",
    "With this current poll, about 20% of the time a survey output would predict Kerrigan winning, even if Ceballos won the actual election. Your co-worker points out that your poll would be more accurate if it had more responders.\n",
    "Generate another binomial distribution, but this time, see what would happen if you had instead surveyed 7,000 people. Divide the distribution by the size of the survey and save your findings to `large_survey`."
   ]
  },
  {
   "cell_type": "code",
   "execution_count": 9,
   "id": "fe09d0d6",
   "metadata": {
    "scrolled": true
   },
   "outputs": [],
   "source": [
    "large_survey = np.random.binomial(7000.0, 0.54, size = 10000) / 7000.0"
   ]
  },
  {
   "cell_type": "code",
   "execution_count": 13,
   "id": "aafde474",
   "metadata": {},
   "outputs": [
    {
     "data": {
      "image/png": "[encoded data removed]",
      "text/plain": [
       "<Figure size 640x480 with 1 Axes>"
      ]
     },
     "metadata": {},
     "output_type": "display_data"
    }
   ],
   "source": [
    "# Compare the two binomial distributions\n",
    "plt.hist(possible_surveys, range = (0, 1), bins = 20)\n",
    "plt.hist(large_survey, alpha = 0.5, range = (0,1), bins = 20) # alpha keyword arg. halves opacity\n",
    "plt.xlabel('Fraction of votes going to Cynthia Ceballos')\n",
    "plt.ylabel('Frequency')\n",
    "plt.legend(('n = 70', 'n = 7000'))\n",
    "plt.show()\n",
    "plt.close()"
   ]
  },
  {
   "cell_type": "markdown",
   "id": "55747014",
   "metadata": {},
   "source": [
    "#### Task 8\n",
    "Now, recalculate the percentage of surveys that would have an outcome of Ceballos losing and save it to the variable `ceballos_loss_new`, and print the value to the terminal. What do we notice about this new value? What advice would you give to your supervisors about predicting results from surveys?"
   ]
  },
  {
   "cell_type": "code",
   "execution_count": 11,
   "id": "d1d00bbf",
   "metadata": {},
   "outputs": [
    {
     "name": "stdout",
     "output_type": "stream",
     "text": [
      "Percentage of surveys in which Ceballos may receive less than 50% of the vote: 0.0 %\n"
     ]
    }
   ],
   "source": [
    "ceballos_loss_new = np.mean(large_survey < 0.5) * 100\n",
    "print('Percentage of surveys in which Ceballos may receive' + \\\n",
    "      ' less than 50% of the vote:', ceballos_loss_new, '%')"
   ]
  },
  {
   "cell_type": "code",
   "execution_count": 12,
   "id": "9ae66c1c",
   "metadata": {},
   "outputs": [],
   "source": [
    "# Predictions are more reliable when the sample size used better approximates the true population size"
   ]
  }
 ],
 "metadata": {
  "kernelspec": {
   "display_name": "Python 3 (ipykernel)",
   "language": "python",
   "name": "python3"
  },
  "language_info": {
   "codemirror_mode": {
    "name": "ipython",
    "version": 3
   },
   "file_extension": ".py",
   "mimetype": "text/x-python",
   "name": "python",
   "nbconvert_exporter": "python",
   "pygments_lexer": "ipython3",
   "version": "3.11.7"
  }
 },
 "nbformat": 4,
 "nbformat_minor": 5
}
