{
 "cells": [
  {
   "cell_type": "markdown",
   "id": "d1b0bf6b",
   "metadata": {},
   "source": [
    "## Find the Flag\n",
    "\n",
    "#### Author: Yesahel Scicluna \n",
    "\n",
    "#### Source: Codecademy. Build a Machine Learning Model. Practice Project - Find the Flag\n",
    "\n",
    "#### Concepts: Decision Trees\n",
    "\n",
    "#### Required Data Files: flags.csv"
   ]
  },
  {
   "cell_type": "markdown",
   "id": "51e005e7",
   "metadata": {},
   "source": [
    "#### Task Description\n",
    "Can you guess which continent this [flag](https://content.codecademy.com/programs/data-science-path/decision-trees/reunion.png) comes from? \n",
    "\n",
    "What are some of the features that would clue you in? Maybe some of the colors are good indicators. The presence or absence of certain shapes could give you a hint. \n",
    "\n",
    "In this project, we’ll use decision trees to try to predict the continent of flags based on several of these features. The dataset we'll be using is from [UCI’s Machine Learning Repository](https://archive.ics.uci.edu/dataset/40/flags)."
   ]
  },
  {
   "cell_type": "code",
   "execution_count": 1,
   "id": "7029c56e",
   "metadata": {},
   "outputs": [],
   "source": [
    "import pandas as pd\n",
    "from sklearn.model_selection import train_test_split\n",
    "from sklearn.tree import DecisionTreeClassifier\n",
    "import matplotlib.pyplot as plt"
   ]
  },
  {
   "cell_type": "markdown",
   "id": "8e45cae5",
   "metadata": {},
   "source": [
    "#### Task 1\n",
    "Let’s start by seeing what the data looks like. Begin by loading the data in `\"flags.csv\"` into a variable named `flags`."
   ]
  },
  {
   "cell_type": "code",
   "execution_count": 2,
   "id": "d5949667",
   "metadata": {},
   "outputs": [],
   "source": [
    "flags = pd.read_csv(r\"https://raw.githubusercontent.com/yezisti/Yesahel_Scicluna--M.Sc._Bioinformatics--Portfolio/main/Python/Codecademy/Build%20a%20Machine%20Learning%20Model/find_the_flag/flags.csv\")"
   ]
  },
  {
   "cell_type": "markdown",
   "id": "92d26076",
   "metadata": {},
   "source": [
    "#### Task 2\n",
    "Take a look at the names of the columns in our DataFrame. These are the features we have available to us. Print `flags.columns`. \n",
    "\n",
    "Let’s also take a look at the first few rows of the dataset. Print `flags.head()`."
   ]
  },
  {
   "cell_type": "code",
   "execution_count": 3,
   "id": "e0a42866",
   "metadata": {
    "scrolled": true
   },
   "outputs": [
    {
     "data": {
      "text/plain": [
       "Index(['Name', 'Landmass', 'Zone', 'Area', 'Population', 'Language',\n",
       "       'Religion', 'Bars', 'Stripes', 'Colors', 'Red', 'Green', 'Blue', 'Gold',\n",
       "       'White', 'Black', 'Orange', 'Mainhue', 'Circles', 'Crosses', 'Saltires',\n",
       "       'Quarters', 'Sunstars', 'Crescent', 'Triangle', 'Icon', 'Animate',\n",
       "       'Text', 'Topleft', 'Botright'],\n",
       "      dtype='object')"
      ]
     },
     "execution_count": 3,
     "metadata": {},
     "output_type": "execute_result"
    }
   ],
   "source": [
    "flags.columns"
   ]
  },
  {
   "cell_type": "code",
   "execution_count": 4,
   "id": "b8e44796",
   "metadata": {},
   "outputs": [
    {
     "data": {
      "text/html": [
       "<div>\n",
       "<style scoped>\n",
       "    .dataframe tbody tr th:only-of-type {\n",
       "        vertical-align: middle;\n",
       "    }\n",
       "\n",
       "    .dataframe tbody tr th {\n",
       "        vertical-align: top;\n",
       "    }\n",
       "\n",
       "    .dataframe thead th {\n",
       "        text-align: right;\n",
       "    }\n",
       "</style>\n",
       "<table border=\"1\" class=\"dataframe\">\n",
       "  <thead>\n",
       "    <tr style=\"text-align: right;\">\n",
       "      <th></th>\n",
       "      <th>Name</th>\n",
       "      <th>Landmass</th>\n",
       "      <th>Zone</th>\n",
       "      <th>Area</th>\n",
       "      <th>Population</th>\n",
       "      <th>Language</th>\n",
       "      <th>Religion</th>\n",
       "      <th>Bars</th>\n",
       "      <th>Stripes</th>\n",
       "      <th>Colors</th>\n",
       "      <th>...</th>\n",
       "      <th>Saltires</th>\n",
       "      <th>Quarters</th>\n",
       "      <th>Sunstars</th>\n",
       "      <th>Crescent</th>\n",
       "      <th>Triangle</th>\n",
       "      <th>Icon</th>\n",
       "      <th>Animate</th>\n",
       "      <th>Text</th>\n",
       "      <th>Topleft</th>\n",
       "      <th>Botright</th>\n",
       "    </tr>\n",
       "  </thead>\n",
       "  <tbody>\n",
       "    <tr>\n",
       "      <th>0</th>\n",
       "      <td>Afghanistan</td>\n",
       "      <td>5</td>\n",
       "      <td>1</td>\n",
       "      <td>648</td>\n",
       "      <td>16</td>\n",
       "      <td>10</td>\n",
       "      <td>2</td>\n",
       "      <td>0</td>\n",
       "      <td>3</td>\n",
       "      <td>5</td>\n",
       "      <td>...</td>\n",
       "      <td>0</td>\n",
       "      <td>0</td>\n",
       "      <td>1</td>\n",
       "      <td>0</td>\n",
       "      <td>0</td>\n",
       "      <td>1</td>\n",
       "      <td>0</td>\n",
       "      <td>0</td>\n",
       "      <td>black</td>\n",
       "      <td>green</td>\n",
       "    </tr>\n",
       "    <tr>\n",
       "      <th>1</th>\n",
       "      <td>Albania</td>\n",
       "      <td>3</td>\n",
       "      <td>1</td>\n",
       "      <td>29</td>\n",
       "      <td>3</td>\n",
       "      <td>6</td>\n",
       "      <td>6</td>\n",
       "      <td>0</td>\n",
       "      <td>0</td>\n",
       "      <td>3</td>\n",
       "      <td>...</td>\n",
       "      <td>0</td>\n",
       "      <td>0</td>\n",
       "      <td>1</td>\n",
       "      <td>0</td>\n",
       "      <td>0</td>\n",
       "      <td>0</td>\n",
       "      <td>1</td>\n",
       "      <td>0</td>\n",
       "      <td>red</td>\n",
       "      <td>red</td>\n",
       "    </tr>\n",
       "    <tr>\n",
       "      <th>2</th>\n",
       "      <td>Algeria</td>\n",
       "      <td>4</td>\n",
       "      <td>1</td>\n",
       "      <td>2388</td>\n",
       "      <td>20</td>\n",
       "      <td>8</td>\n",
       "      <td>2</td>\n",
       "      <td>2</td>\n",
       "      <td>0</td>\n",
       "      <td>3</td>\n",
       "      <td>...</td>\n",
       "      <td>0</td>\n",
       "      <td>0</td>\n",
       "      <td>1</td>\n",
       "      <td>1</td>\n",
       "      <td>0</td>\n",
       "      <td>0</td>\n",
       "      <td>0</td>\n",
       "      <td>0</td>\n",
       "      <td>green</td>\n",
       "      <td>white</td>\n",
       "    </tr>\n",
       "    <tr>\n",
       "      <th>3</th>\n",
       "      <td>American-Samoa</td>\n",
       "      <td>6</td>\n",
       "      <td>3</td>\n",
       "      <td>0</td>\n",
       "      <td>0</td>\n",
       "      <td>1</td>\n",
       "      <td>1</td>\n",
       "      <td>0</td>\n",
       "      <td>0</td>\n",
       "      <td>5</td>\n",
       "      <td>...</td>\n",
       "      <td>0</td>\n",
       "      <td>0</td>\n",
       "      <td>0</td>\n",
       "      <td>0</td>\n",
       "      <td>1</td>\n",
       "      <td>1</td>\n",
       "      <td>1</td>\n",
       "      <td>0</td>\n",
       "      <td>blue</td>\n",
       "      <td>red</td>\n",
       "    </tr>\n",
       "    <tr>\n",
       "      <th>4</th>\n",
       "      <td>Andorra</td>\n",
       "      <td>3</td>\n",
       "      <td>1</td>\n",
       "      <td>0</td>\n",
       "      <td>0</td>\n",
       "      <td>6</td>\n",
       "      <td>0</td>\n",
       "      <td>3</td>\n",
       "      <td>0</td>\n",
       "      <td>3</td>\n",
       "      <td>...</td>\n",
       "      <td>0</td>\n",
       "      <td>0</td>\n",
       "      <td>0</td>\n",
       "      <td>0</td>\n",
       "      <td>0</td>\n",
       "      <td>0</td>\n",
       "      <td>0</td>\n",
       "      <td>0</td>\n",
       "      <td>blue</td>\n",
       "      <td>red</td>\n",
       "    </tr>\n",
       "    <tr>\n",
       "      <th>5</th>\n",
       "      <td>Angola</td>\n",
       "      <td>4</td>\n",
       "      <td>2</td>\n",
       "      <td>1247</td>\n",
       "      <td>7</td>\n",
       "      <td>10</td>\n",
       "      <td>5</td>\n",
       "      <td>0</td>\n",
       "      <td>2</td>\n",
       "      <td>3</td>\n",
       "      <td>...</td>\n",
       "      <td>0</td>\n",
       "      <td>0</td>\n",
       "      <td>1</td>\n",
       "      <td>0</td>\n",
       "      <td>0</td>\n",
       "      <td>1</td>\n",
       "      <td>0</td>\n",
       "      <td>0</td>\n",
       "      <td>red</td>\n",
       "      <td>black</td>\n",
       "    </tr>\n",
       "    <tr>\n",
       "      <th>6</th>\n",
       "      <td>Anguilla</td>\n",
       "      <td>1</td>\n",
       "      <td>4</td>\n",
       "      <td>0</td>\n",
       "      <td>0</td>\n",
       "      <td>1</td>\n",
       "      <td>1</td>\n",
       "      <td>0</td>\n",
       "      <td>1</td>\n",
       "      <td>3</td>\n",
       "      <td>...</td>\n",
       "      <td>0</td>\n",
       "      <td>0</td>\n",
       "      <td>0</td>\n",
       "      <td>0</td>\n",
       "      <td>0</td>\n",
       "      <td>0</td>\n",
       "      <td>1</td>\n",
       "      <td>0</td>\n",
       "      <td>white</td>\n",
       "      <td>blue</td>\n",
       "    </tr>\n",
       "    <tr>\n",
       "      <th>7</th>\n",
       "      <td>Antigua-Barbuda</td>\n",
       "      <td>1</td>\n",
       "      <td>4</td>\n",
       "      <td>0</td>\n",
       "      <td>0</td>\n",
       "      <td>1</td>\n",
       "      <td>1</td>\n",
       "      <td>0</td>\n",
       "      <td>1</td>\n",
       "      <td>5</td>\n",
       "      <td>...</td>\n",
       "      <td>0</td>\n",
       "      <td>0</td>\n",
       "      <td>1</td>\n",
       "      <td>0</td>\n",
       "      <td>1</td>\n",
       "      <td>0</td>\n",
       "      <td>0</td>\n",
       "      <td>0</td>\n",
       "      <td>black</td>\n",
       "      <td>red</td>\n",
       "    </tr>\n",
       "    <tr>\n",
       "      <th>8</th>\n",
       "      <td>Argentina</td>\n",
       "      <td>2</td>\n",
       "      <td>3</td>\n",
       "      <td>2777</td>\n",
       "      <td>28</td>\n",
       "      <td>2</td>\n",
       "      <td>0</td>\n",
       "      <td>0</td>\n",
       "      <td>3</td>\n",
       "      <td>2</td>\n",
       "      <td>...</td>\n",
       "      <td>0</td>\n",
       "      <td>0</td>\n",
       "      <td>0</td>\n",
       "      <td>0</td>\n",
       "      <td>0</td>\n",
       "      <td>0</td>\n",
       "      <td>0</td>\n",
       "      <td>0</td>\n",
       "      <td>blue</td>\n",
       "      <td>blue</td>\n",
       "    </tr>\n",
       "    <tr>\n",
       "      <th>9</th>\n",
       "      <td>Argentine</td>\n",
       "      <td>2</td>\n",
       "      <td>3</td>\n",
       "      <td>2777</td>\n",
       "      <td>28</td>\n",
       "      <td>2</td>\n",
       "      <td>0</td>\n",
       "      <td>0</td>\n",
       "      <td>3</td>\n",
       "      <td>3</td>\n",
       "      <td>...</td>\n",
       "      <td>0</td>\n",
       "      <td>0</td>\n",
       "      <td>1</td>\n",
       "      <td>0</td>\n",
       "      <td>0</td>\n",
       "      <td>0</td>\n",
       "      <td>0</td>\n",
       "      <td>0</td>\n",
       "      <td>blue</td>\n",
       "      <td>blue</td>\n",
       "    </tr>\n",
       "  </tbody>\n",
       "</table>\n",
       "<p>10 rows × 30 columns</p>\n",
       "</div>"
      ],
      "text/plain": [
       "              Name  Landmass  Zone  Area  Population  Language  Religion  \\\n",
       "0      Afghanistan         5     1   648          16        10         2   \n",
       "1          Albania         3     1    29           3         6         6   \n",
       "2          Algeria         4     1  2388          20         8         2   \n",
       "3   American-Samoa         6     3     0           0         1         1   \n",
       "4          Andorra         3     1     0           0         6         0   \n",
       "5           Angola         4     2  1247           7        10         5   \n",
       "6         Anguilla         1     4     0           0         1         1   \n",
       "7  Antigua-Barbuda         1     4     0           0         1         1   \n",
       "8        Argentina         2     3  2777          28         2         0   \n",
       "9        Argentine         2     3  2777          28         2         0   \n",
       "\n",
       "   Bars  Stripes  Colors  ...  Saltires  Quarters  Sunstars  Crescent  \\\n",
       "0     0        3       5  ...         0         0         1         0   \n",
       "1     0        0       3  ...         0         0         1         0   \n",
       "2     2        0       3  ...         0         0         1         1   \n",
       "3     0        0       5  ...         0         0         0         0   \n",
       "4     3        0       3  ...         0         0         0         0   \n",
       "5     0        2       3  ...         0         0         1         0   \n",
       "6     0        1       3  ...         0         0         0         0   \n",
       "7     0        1       5  ...         0         0         1         0   \n",
       "8     0        3       2  ...         0         0         0         0   \n",
       "9     0        3       3  ...         0         0         1         0   \n",
       "\n",
       "   Triangle  Icon  Animate Text  Topleft  Botright  \n",
       "0         0     1        0    0    black     green  \n",
       "1         0     0        1    0      red       red  \n",
       "2         0     0        0    0    green     white  \n",
       "3         1     1        1    0     blue       red  \n",
       "4         0     0        0    0     blue       red  \n",
       "5         0     1        0    0      red     black  \n",
       "6         0     0        1    0    white      blue  \n",
       "7         1     0        0    0    black       red  \n",
       "8         0     0        0    0     blue      blue  \n",
       "9         0     0        0    0     blue      blue  \n",
       "\n",
       "[10 rows x 30 columns]"
      ]
     },
     "execution_count": 4,
     "metadata": {},
     "output_type": "execute_result"
    }
   ],
   "source": [
    "flags.head(10)"
   ]
  },
  {
   "cell_type": "markdown",
   "id": "c1bd7381",
   "metadata": {},
   "source": [
    "#### Task 3\n",
    "We’re eventually going to use create a decision tree to classify what `Landmass` a country is on.\n",
    "\n",
    "Create a variable named `labels` and set it equal to only the `\"Landmass\"` column from `flags`."
   ]
  },
  {
   "cell_type": "code",
   "execution_count": 5,
   "id": "2de4feb8",
   "metadata": {},
   "outputs": [
    {
     "data": {
      "text/plain": [
       "0      5\n",
       "1      3\n",
       "2      4\n",
       "3      6\n",
       "4      3\n",
       "      ..\n",
       "189    6\n",
       "190    3\n",
       "191    4\n",
       "192    4\n",
       "193    4\n",
       "Name: Landmass, Length: 194, dtype: int64"
      ]
     },
     "execution_count": 5,
     "metadata": {},
     "output_type": "execute_result"
    }
   ],
   "source": [
    "labels = flags.Landmass\n",
    "labels"
   ]
  },
  {
   "cell_type": "markdown",
   "id": "5dea1592",
   "metadata": {},
   "source": [
    "#### Task 4\n",
    "We have our labels. Now we want to choose which columns will help our decision tree correctly classify those labels.\n",
    "\n",
    "You could spend a lot of time playing with groups of columns to find the that work best. But for now, let’s see if we can predict where a country is based only on the colors of its flag.\n",
    "\n",
    "Create a variable named `data` and set it equal to a DataFrame containing the following columns from `flags`:\n",
    "\n",
    "- `\"Red\"`\n",
    "- `\"Green\"`\n",
    "- `\"Blue\"`\n",
    "- `\"Gold\"`\n",
    "- `\"White\"`\n",
    "- `\"Black\"`\n",
    "- `\"Orange\"`"
   ]
  },
  {
   "cell_type": "code",
   "execution_count": 6,
   "id": "a4762a0f",
   "metadata": {},
   "outputs": [
    {
     "data": {
      "text/html": [
       "<div>\n",
       "<style scoped>\n",
       "    .dataframe tbody tr th:only-of-type {\n",
       "        vertical-align: middle;\n",
       "    }\n",
       "\n",
       "    .dataframe tbody tr th {\n",
       "        vertical-align: top;\n",
       "    }\n",
       "\n",
       "    .dataframe thead th {\n",
       "        text-align: right;\n",
       "    }\n",
       "</style>\n",
       "<table border=\"1\" class=\"dataframe\">\n",
       "  <thead>\n",
       "    <tr style=\"text-align: right;\">\n",
       "      <th></th>\n",
       "      <th>Red</th>\n",
       "      <th>Green</th>\n",
       "      <th>Blue</th>\n",
       "      <th>Gold</th>\n",
       "      <th>White</th>\n",
       "      <th>Black</th>\n",
       "      <th>Orange</th>\n",
       "    </tr>\n",
       "  </thead>\n",
       "  <tbody>\n",
       "    <tr>\n",
       "      <th>0</th>\n",
       "      <td>1</td>\n",
       "      <td>1</td>\n",
       "      <td>0</td>\n",
       "      <td>1</td>\n",
       "      <td>1</td>\n",
       "      <td>1</td>\n",
       "      <td>0</td>\n",
       "    </tr>\n",
       "    <tr>\n",
       "      <th>1</th>\n",
       "      <td>1</td>\n",
       "      <td>0</td>\n",
       "      <td>0</td>\n",
       "      <td>1</td>\n",
       "      <td>0</td>\n",
       "      <td>1</td>\n",
       "      <td>0</td>\n",
       "    </tr>\n",
       "    <tr>\n",
       "      <th>2</th>\n",
       "      <td>1</td>\n",
       "      <td>1</td>\n",
       "      <td>0</td>\n",
       "      <td>0</td>\n",
       "      <td>1</td>\n",
       "      <td>0</td>\n",
       "      <td>0</td>\n",
       "    </tr>\n",
       "    <tr>\n",
       "      <th>3</th>\n",
       "      <td>1</td>\n",
       "      <td>0</td>\n",
       "      <td>1</td>\n",
       "      <td>1</td>\n",
       "      <td>1</td>\n",
       "      <td>0</td>\n",
       "      <td>1</td>\n",
       "    </tr>\n",
       "    <tr>\n",
       "      <th>4</th>\n",
       "      <td>1</td>\n",
       "      <td>0</td>\n",
       "      <td>1</td>\n",
       "      <td>1</td>\n",
       "      <td>0</td>\n",
       "      <td>0</td>\n",
       "      <td>0</td>\n",
       "    </tr>\n",
       "    <tr>\n",
       "      <th>...</th>\n",
       "      <td>...</td>\n",
       "      <td>...</td>\n",
       "      <td>...</td>\n",
       "      <td>...</td>\n",
       "      <td>...</td>\n",
       "      <td>...</td>\n",
       "      <td>...</td>\n",
       "    </tr>\n",
       "    <tr>\n",
       "      <th>189</th>\n",
       "      <td>1</td>\n",
       "      <td>0</td>\n",
       "      <td>1</td>\n",
       "      <td>0</td>\n",
       "      <td>1</td>\n",
       "      <td>0</td>\n",
       "      <td>0</td>\n",
       "    </tr>\n",
       "    <tr>\n",
       "      <th>190</th>\n",
       "      <td>1</td>\n",
       "      <td>0</td>\n",
       "      <td>1</td>\n",
       "      <td>1</td>\n",
       "      <td>1</td>\n",
       "      <td>0</td>\n",
       "      <td>0</td>\n",
       "    </tr>\n",
       "    <tr>\n",
       "      <th>191</th>\n",
       "      <td>1</td>\n",
       "      <td>1</td>\n",
       "      <td>0</td>\n",
       "      <td>1</td>\n",
       "      <td>0</td>\n",
       "      <td>0</td>\n",
       "      <td>1</td>\n",
       "    </tr>\n",
       "    <tr>\n",
       "      <th>192</th>\n",
       "      <td>1</td>\n",
       "      <td>1</td>\n",
       "      <td>0</td>\n",
       "      <td>0</td>\n",
       "      <td>0</td>\n",
       "      <td>1</td>\n",
       "      <td>1</td>\n",
       "    </tr>\n",
       "    <tr>\n",
       "      <th>193</th>\n",
       "      <td>1</td>\n",
       "      <td>1</td>\n",
       "      <td>0</td>\n",
       "      <td>1</td>\n",
       "      <td>1</td>\n",
       "      <td>1</td>\n",
       "      <td>0</td>\n",
       "    </tr>\n",
       "  </tbody>\n",
       "</table>\n",
       "<p>194 rows × 7 columns</p>\n",
       "</div>"
      ],
      "text/plain": [
       "     Red  Green  Blue  Gold  White  Black  Orange\n",
       "0      1      1     0     1      1      1       0\n",
       "1      1      0     0     1      0      1       0\n",
       "2      1      1     0     0      1      0       0\n",
       "3      1      0     1     1      1      0       1\n",
       "4      1      0     1     1      0      0       0\n",
       "..   ...    ...   ...   ...    ...    ...     ...\n",
       "189    1      0     1     0      1      0       0\n",
       "190    1      0     1     1      1      0       0\n",
       "191    1      1     0     1      0      0       1\n",
       "192    1      1     0     0      0      1       1\n",
       "193    1      1     0     1      1      1       0\n",
       "\n",
       "[194 rows x 7 columns]"
      ]
     },
     "execution_count": 6,
     "metadata": {},
     "output_type": "execute_result"
    }
   ],
   "source": [
    "data = flags[[\"Red\", \"Green\", \"Blue\", \"Gold\", \"White\", \"Black\", \"Orange\"]]\n",
    "data"
   ]
  },
  {
   "cell_type": "markdown",
   "id": "e834826d",
   "metadata": {},
   "source": [
    "#### Task 5\n",
    "Finally, let’s split these DataFrames into a training set and test set using the `train_test_split()` function. Include the parameter `random_state = 1`.\n",
    "\n",
    "This function returns four values. Name the values the function returns as `train_data`, `test_data`, `train_labels`, and `test_labels`."
   ]
  },
  {
   "cell_type": "code",
   "execution_count": 7,
   "id": "f0e27427",
   "metadata": {},
   "outputs": [],
   "source": [
    "train_data, test_data, train_labels, test_labels = train_test_split(data, labels, random_state = 1)"
   ]
  },
  {
   "cell_type": "markdown",
   "id": "a9593002",
   "metadata": {},
   "source": [
    "#### Task 6\n",
    "Create a `DecisionTreeClassifier` and name it `tree`. When you create the tree, give it the parameter `random_state = 1`."
   ]
  },
  {
   "cell_type": "code",
   "execution_count": 8,
   "id": "fb1d4574",
   "metadata": {},
   "outputs": [],
   "source": [
    "tree = DecisionTreeClassifier(random_state = 1)"
   ]
  },
  {
   "cell_type": "markdown",
   "id": "b5cade5d",
   "metadata": {},
   "source": [
    "#### Task 7\n",
    "Call `tree`'s `.fit()` method to fit the tree to the training data."
   ]
  },
  {
   "cell_type": "code",
   "execution_count": 9,
   "id": "4c0ae8c9",
   "metadata": {},
   "outputs": [
    {
     "data": {
      "text/html": [
       "<style>#sk-container-id-1 {color: black;background-color: white;}#sk-container-id-1 pre{padding: 0;}#sk-container-id-1 div.sk-toggleable {background-color: white;}#sk-container-id-1 label.sk-toggleable__label {cursor: pointer;display: block;width: 100%;margin-bottom: 0;padding: 0.3em;box-sizing: border-box;text-align: center;}#sk-container-id-1 label.sk-toggleable__label-arrow:before {content: \"▸\";float: left;margin-right: 0.25em;color: #696969;}#sk-container-id-1 label.sk-toggleable__label-arrow:hover:before {color: black;}#sk-container-id-1 div.sk-estimator:hover label.sk-toggleable__label-arrow:before {color: black;}#sk-container-id-1 div.sk-toggleable__content {max-height: 0;max-width: 0;overflow: hidden;text-align: left;background-color: #f0f8ff;}#sk-container-id-1 div.sk-toggleable__content pre {margin: 0.2em;color: black;border-radius: 0.25em;background-color: #f0f8ff;}#sk-container-id-1 input.sk-toggleable__control:checked~div.sk-toggleable__content {max-height: 200px;max-width: 100%;overflow: auto;}#sk-container-id-1 input.sk-toggleable__control:checked~label.sk-toggleable__label-arrow:before {content: \"▾\";}#sk-container-id-1 div.sk-estimator input.sk-toggleable__control:checked~label.sk-toggleable__label {background-color: #d4ebff;}#sk-container-id-1 div.sk-label input.sk-toggleable__control:checked~label.sk-toggleable__label {background-color: #d4ebff;}#sk-container-id-1 input.sk-hidden--visually {border: 0;clip: rect(1px 1px 1px 1px);clip: rect(1px, 1px, 1px, 1px);height: 1px;margin: -1px;overflow: hidden;padding: 0;position: absolute;width: 1px;}#sk-container-id-1 div.sk-estimator {font-family: monospace;background-color: #f0f8ff;border: 1px dotted black;border-radius: 0.25em;box-sizing: border-box;margin-bottom: 0.5em;}#sk-container-id-1 div.sk-estimator:hover {background-color: #d4ebff;}#sk-container-id-1 div.sk-parallel-item::after {content: \"\";width: 100%;border-bottom: 1px solid gray;flex-grow: 1;}#sk-container-id-1 div.sk-label:hover label.sk-toggleable__label {background-color: #d4ebff;}#sk-container-id-1 div.sk-serial::before {content: \"\";position: absolute;border-left: 1px solid gray;box-sizing: border-box;top: 0;bottom: 0;left: 50%;z-index: 0;}#sk-container-id-1 div.sk-serial {display: flex;flex-direction: column;align-items: center;background-color: white;padding-right: 0.2em;padding-left: 0.2em;position: relative;}#sk-container-id-1 div.sk-item {position: relative;z-index: 1;}#sk-container-id-1 div.sk-parallel {display: flex;align-items: stretch;justify-content: center;background-color: white;position: relative;}#sk-container-id-1 div.sk-item::before, #sk-container-id-1 div.sk-parallel-item::before {content: \"\";position: absolute;border-left: 1px solid gray;box-sizing: border-box;top: 0;bottom: 0;left: 50%;z-index: -1;}#sk-container-id-1 div.sk-parallel-item {display: flex;flex-direction: column;z-index: 1;position: relative;background-color: white;}#sk-container-id-1 div.sk-parallel-item:first-child::after {align-self: flex-end;width: 50%;}#sk-container-id-1 div.sk-parallel-item:last-child::after {align-self: flex-start;width: 50%;}#sk-container-id-1 div.sk-parallel-item:only-child::after {width: 0;}#sk-container-id-1 div.sk-dashed-wrapped {border: 1px dashed gray;margin: 0 0.4em 0.5em 0.4em;box-sizing: border-box;padding-bottom: 0.4em;background-color: white;}#sk-container-id-1 div.sk-label label {font-family: monospace;font-weight: bold;display: inline-block;line-height: 1.2em;}#sk-container-id-1 div.sk-label-container {text-align: center;}#sk-container-id-1 div.sk-container {/* jupyter's `normalize.less` sets `[hidden] { display: none; }` but bootstrap.min.css set `[hidden] { display: none !important; }` so we also need the `!important` here to be able to override the default hidden behavior on the sphinx rendered scikit-learn.org. See: https://github.com/scikit-learn/scikit-learn/issues/21755 */display: inline-block !important;position: relative;}#sk-container-id-1 div.sk-text-repr-fallback {display: none;}</style><div id=\"sk-container-id-1\" class=\"sk-top-container\"><div class=\"sk-text-repr-fallback\"><pre>DecisionTreeClassifier(random_state=1)</pre><b>In a Jupyter environment, please rerun this cell to show the HTML representation or trust the notebook. <br />On GitHub, the HTML representation is unable to render, please try loading this page with nbviewer.org.</b></div><div class=\"sk-container\" hidden><div class=\"sk-item\"><div class=\"sk-estimator sk-toggleable\"><input class=\"sk-toggleable__control sk-hidden--visually\" id=\"sk-estimator-id-1\" type=\"checkbox\" checked><label for=\"sk-estimator-id-1\" class=\"sk-toggleable__label sk-toggleable__label-arrow\">DecisionTreeClassifier</label><div class=\"sk-toggleable__content\"><pre>DecisionTreeClassifier(random_state=1)</pre></div></div></div></div></div>"
      ],
      "text/plain": [
       "DecisionTreeClassifier(random_state=1)"
      ]
     },
     "execution_count": 9,
     "metadata": {},
     "output_type": "execute_result"
    }
   ],
   "source": [
    "tree.fit(train_data, train_labels)"
   ]
  },
  {
   "cell_type": "markdown",
   "id": "a9832ef4",
   "metadata": {},
   "source": [
    "#### Task 8\n",
    "Call `.score()` using `test_data` and `test_labels`. Print the result.\n",
    "\n",
    "Since there are six possible landmasses, if we randomly guessed, we’d expect to be right about 16% of the time. Did our decision tree beat randomly guessing?"
   ]
  },
  {
   "cell_type": "code",
   "execution_count": 10,
   "id": "fe296ba6",
   "metadata": {},
   "outputs": [
    {
     "data": {
      "text/plain": [
       "0.3469387755102041"
      ]
     },
     "execution_count": 10,
     "metadata": {},
     "output_type": "execute_result"
    }
   ],
   "source": [
    "tree.score(test_data, test_labels)"
   ]
  },
  {
   "cell_type": "markdown",
   "id": "c718a1b7",
   "metadata": {},
   "source": [
    "#### Task 9\n",
    "We now have a good baseline of how our model performs with these features. Let’s see if we can prune the tree to make it better!\n",
    "\n",
    "Put your code that creates, trains, and tests the tree inside a for loop that has a variable named `i` that increases from `1` to `20`.\n",
    "\n",
    "Inside your for loop, when you create `tree`, give it the parameter `max_depth = i`.\n",
    "\n",
    "We’ll now see a printout of how the accuracy changes depending on how large we allow the tree to be."
   ]
  },
  {
   "cell_type": "code",
   "execution_count": 11,
   "id": "3f2db766",
   "metadata": {},
   "outputs": [
    {
     "name": "stdout",
     "output_type": "stream",
     "text": [
      "max_depth:   accuracy:\n",
      "01           0.34693877551020410\n",
      "02           0.22448979591836735\n",
      "03           0.34693877551020410\n",
      "04           0.32653061224489793\n",
      "05           0.34693877551020410\n",
      "06           0.34693877551020410\n",
      "07           0.34693877551020410\n",
      "08           0.34693877551020410\n",
      "09           0.34693877551020410\n",
      "10           0.34693877551020410\n",
      "11           0.34693877551020410\n",
      "12           0.34693877551020410\n",
      "13           0.34693877551020410\n",
      "14           0.34693877551020410\n",
      "15           0.34693877551020410\n",
      "16           0.34693877551020410\n",
      "17           0.34693877551020410\n",
      "18           0.34693877551020410\n",
      "19           0.34693877551020410\n",
      "20           0.34693877551020410\n"
     ]
    }
   ],
   "source": [
    "# Prints headers for the list\n",
    "print('max_depth:', ' ', 'accuracy:')\n",
    "\n",
    "for i in range(1, 21):\n",
    "  tree = DecisionTreeClassifier(random_state = 1, max_depth = i)\n",
    "  tree.fit(train_data, train_labels)\n",
    "\n",
    "  # Prints the list with padding\n",
    "  print(str(i).rjust(2, '0'), ' ' * 9, str(tree.score(test_data, test_labels)).ljust(19, '0'))"
   ]
  },
  {
   "cell_type": "markdown",
   "id": "d6bcdfea",
   "metadata": {},
   "source": [
    "#### Task 10\n",
    "Rather than printing the score of each tree, let’s graph it! We want the x-axis to show the depth of the tree and the y-axis to show the tree’s score.\n",
    "\n",
    "To do this, we’ll need to create a list containing all of the scores. Before the for loop, create an empty list named `scores`. Inside the loop, instead of printing the tree’s score, use `.append()` to add it to `scores`."
   ]
  },
  {
   "cell_type": "code",
   "execution_count": 12,
   "id": "7b75c9d4",
   "metadata": {},
   "outputs": [],
   "source": [
    "scores = []\n",
    "for i in range(1, 21):\n",
    "  tree = DecisionTreeClassifier(random_state = 1, max_depth = i)\n",
    "  tree.fit(train_data, train_labels)\n",
    "  scores.append(tree.score(test_data, test_labels))"
   ]
  },
  {
   "cell_type": "markdown",
   "id": "f3cf63e4",
   "metadata": {},
   "source": [
    "#### Task 11\n",
    "Let’s now plot our points. Call `plt.plot()` on your data and then call `plt.show()`."
   ]
  },
  {
   "cell_type": "code",
   "execution_count": 13,
   "id": "5c20d105",
   "metadata": {},
   "outputs": [
    {
     "data": {
      "image/png": "[encoded data removed]",
      "text/plain": [
       "<Figure size 640x480 with 1 Axes>"
      ]
     },
     "metadata": {},
     "output_type": "display_data"
    }
   ],
   "source": [
    "plt.plot(range(1, 21), scores)\n",
    "plt.xlabel('Maximum Tree Depth')\n",
    "plt.ylabel('Test Accuracy')\n",
    "plt.show()\n",
    "plt.close()"
   ]
  },
  {
   "cell_type": "markdown",
   "id": "01be97be",
   "metadata": {},
   "source": [
    "#### Task 12\n",
    "Our graph doesn’t really look like we would expect it to. It seems like the depth of the tree isn’t really having an impact on its performance. This might be a good indication that we’re not using enough features.\n",
    "\n",
    "Let’s add all the features that have to do with shapes to our data. `data` should now be set equal to:\n",
    "\n",
    "`flags[[\"Red\", \"Green\", \"Blue\", \"Gold\", \"White\", \"Black\", \"Orange\", \"Circles\", \"Crosses\",\"Saltires\",\"Quarters\",\"Sunstars\", \"Crescent\",\"Triangle\"]]`\n",
    "\n",
    "What does your graph look like after making this change?"
   ]
  },
  {
   "cell_type": "code",
   "execution_count": 14,
   "id": "1a4604c6",
   "metadata": {},
   "outputs": [
    {
     "data": {
      "image/png": "[encoded data removed]",
      "text/plain": [
       "<Figure size 640x480 with 1 Axes>"
      ]
     },
     "metadata": {},
     "output_type": "display_data"
    }
   ],
   "source": [
    "data = flags[[\"Red\", \"Green\", \"Blue\", \"Gold\", \"White\", \"Black\", \"Orange\", \"Circles\", \"Crosses\", \"Saltires\", \"Quarters\", \"Sunstars\", \"Crescent\",\"Triangle\"]]\n",
    "\n",
    "train_data, test_data, train_labels, test_labels = train_test_split(data, labels, random_state = 1)\n",
    "\n",
    "scores = []\n",
    "for i in range(1, 21):\n",
    "  tree = DecisionTreeClassifier(random_state = 1, max_depth = i)\n",
    "  tree.fit(train_data, train_labels)\n",
    "  scores.append(tree.score(test_data, test_labels))\n",
    "\n",
    "plt.plot(range(1, 21), scores)\n",
    "plt.xlabel('Maximum Tree Depth')\n",
    "plt.ylabel('Test Accuracy')\n",
    "plt.show()\n",
    "plt.close()"
   ]
  },
  {
   "cell_type": "code",
   "execution_count": 15,
   "id": "854004dd",
   "metadata": {},
   "outputs": [],
   "source": [
    "# Accuracy first increases as increasing tree depth mitigates for underfitting,\n",
    "# accuracy reaches its maximum at about 0.55, \n",
    "# and then accuracy decreases until it reaches a plateau as further increase in tree depth causes overfitting."
   ]
  }
 ],
 "metadata": {
  "kernelspec": {
   "display_name": "Python 3 (ipykernel)",
   "language": "python",
   "name": "python3"
  },
  "language_info": {
   "codemirror_mode": {
    "name": "ipython",
    "version": 3
   },
   "file_extension": ".py",
   "mimetype": "text/x-python",
   "name": "python",
   "nbconvert_exporter": "python",
   "pygments_lexer": "ipython3",
   "version": "3.11.7"
  }
 },
 "nbformat": 4,
 "nbformat_minor": 5
}
