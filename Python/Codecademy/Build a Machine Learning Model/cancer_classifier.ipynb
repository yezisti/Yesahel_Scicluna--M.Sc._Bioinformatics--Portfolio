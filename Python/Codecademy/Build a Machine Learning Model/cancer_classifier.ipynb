{
 "cells": [
  {
   "cell_type": "markdown",
   "id": "afb26707",
   "metadata": {},
   "source": [
    "## Cancer Classifier\n",
    "\n",
    "#### Author: Yesahel Scicluna \n",
    "\n",
    "#### Source: Codecademy. Build a Machine Learning Model. Practice Project - Cancer Classifier\n",
    "\n",
    "#### Concepts: K-Nearest Neighbours\n",
    "\n",
    "#### Required Data Files: None"
   ]
  },
  {
   "cell_type": "markdown",
   "id": "a7cba907",
   "metadata": {},
   "source": [
    "#### Task Description\n",
    "In this project, we will be using several Python libraries to make a K-Nearest Neighbour classifier that is trained to predict whether a patient has breast cancer. "
   ]
  },
  {
   "cell_type": "markdown",
   "id": "100f94ab",
   "metadata": {},
   "source": [
    "#### Task 1\n",
    "Let’s begin by importing the breast cancer data from `sklearn`. We want to import the function `load_breast_cancer` from `sklearn.datasets`.\n",
    "\n",
    "Once we’ve imported the dataset, let’s load the data into a variable called `breast_cancer_data`."
   ]
  },
  {
   "cell_type": "code",
   "execution_count": 1,
   "id": "41ae2bbc",
   "metadata": {},
   "outputs": [],
   "source": [
    "from sklearn.datasets import load_breast_cancer\n",
    "breast_cancer_data = load_breast_cancer()"
   ]
  },
  {
   "cell_type": "markdown",
   "id": "b3f03e5c",
   "metadata": {},
   "source": [
    "#### Task 2\n",
    "Before jumping into creating our classifier, let’s take a look at the data. Begin by printing `breast_cancer_data.data[0]`. But what do all of those numbers represent? Let’s also print `breast_cancer_data.feature_names`."
   ]
  },
  {
   "cell_type": "code",
   "execution_count": 2,
   "id": "7e07b0b4",
   "metadata": {},
   "outputs": [
    {
     "name": "stdout",
     "output_type": "stream",
     "text": [
      "[1.799e+01 1.038e+01 1.228e+02 1.001e+03 1.184e-01 2.776e-01 3.001e-01\n",
      " 1.471e-01 2.419e-01 7.871e-02 1.095e+00 9.053e-01 8.589e+00 1.534e+02\n",
      " 6.399e-03 4.904e-02 5.373e-02 1.587e-02 3.003e-02 6.193e-03 2.538e+01\n",
      " 1.733e+01 1.846e+02 2.019e+03 1.622e-01 6.656e-01 7.119e-01 2.654e-01\n",
      " 4.601e-01 1.189e-01] \n",
      "\n",
      " ['mean radius' 'mean texture' 'mean perimeter' 'mean area'\n",
      " 'mean smoothness' 'mean compactness' 'mean concavity'\n",
      " 'mean concave points' 'mean symmetry' 'mean fractal dimension'\n",
      " 'radius error' 'texture error' 'perimeter error' 'area error'\n",
      " 'smoothness error' 'compactness error' 'concavity error'\n",
      " 'concave points error' 'symmetry error' 'fractal dimension error'\n",
      " 'worst radius' 'worst texture' 'worst perimeter' 'worst area'\n",
      " 'worst smoothness' 'worst compactness' 'worst concavity'\n",
      " 'worst concave points' 'worst symmetry' 'worst fractal dimension']\n"
     ]
    }
   ],
   "source": [
    "print(breast_cancer_data.data[0],'\\n\\n',\n",
    "      breast_cancer_data.feature_names)"
   ]
  },
  {
   "cell_type": "markdown",
   "id": "00e4e098",
   "metadata": {},
   "source": [
    "#### Task 3\n",
    "We now have a sense of what the data looks like, but what are we trying to classify? Let’s print both `breast_cancer_data.target` and `breast_cancer_data.target_names`.\n",
    "\n",
    "Was the very first data point tagged as malignant or benign?"
   ]
  },
  {
   "cell_type": "code",
   "execution_count": 3,
   "id": "fa1f5e70",
   "metadata": {},
   "outputs": [
    {
     "name": "stdout",
     "output_type": "stream",
     "text": [
      "[0 0 0 0 0 0 0 0 0 0 0 0 0 0 0 0 0 0 0 1 1 1 0 0 0 0 0 0 0 0 0 0 0 0 0 0 0\n",
      " 1 0 0 0 0 0 0 0 0 1 0 1 1 1 1 1 0 0 1 0 0 1 1 1 1 0 1 0 0 1 1 1 1 0 1 0 0\n",
      " 1 0 1 0 0 1 1 1 0 0 1 0 0 0 1 1 1 0 1 1 0 0 1 1 1 0 0 1 1 1 1 0 1 1 0 1 1\n",
      " 1 1 1 1 1 1 0 0 0 1 0 0 1 1 1 0 0 1 0 1 0 0 1 0 0 1 1 0 1 1 0 1 1 1 1 0 1\n",
      " 1 1 1 1 1 1 1 1 0 1 1 1 1 0 0 1 0 1 1 0 0 1 1 0 0 1 1 1 1 0 1 1 0 0 0 1 0\n",
      " 1 0 1 1 1 0 1 1 0 0 1 0 0 0 0 1 0 0 0 1 0 1 0 1 1 0 1 0 0 0 0 1 1 0 0 1 1\n",
      " 1 0 1 1 1 1 1 0 0 1 1 0 1 1 0 0 1 0 1 1 1 1 0 1 1 1 1 1 0 1 0 0 0 0 0 0 0\n",
      " 0 0 0 0 0 0 0 1 1 1 1 1 1 0 1 0 1 1 0 1 1 0 1 0 0 1 1 1 1 1 1 1 1 1 1 1 1\n",
      " 1 0 1 1 0 1 0 1 1 1 1 1 1 1 1 1 1 1 1 1 1 0 1 1 1 0 1 0 1 1 1 1 0 0 0 1 1\n",
      " 1 1 0 1 0 1 0 1 1 1 0 1 1 1 1 1 1 1 0 0 0 1 1 1 1 1 1 1 1 1 1 1 0 0 1 0 0\n",
      " 0 1 0 0 1 1 1 1 1 0 1 1 1 1 1 0 1 1 1 0 1 1 0 0 1 1 1 1 1 1 0 1 1 1 1 1 1\n",
      " 1 0 1 1 1 1 1 0 1 1 0 1 1 1 1 1 1 1 1 1 1 1 1 0 1 0 0 1 0 1 1 1 1 1 0 1 1\n",
      " 0 1 0 1 1 0 1 0 1 1 1 1 1 1 1 1 0 0 1 1 1 1 1 1 0 1 1 1 1 1 1 1 1 1 1 0 1\n",
      " 1 1 1 1 1 1 0 1 0 1 1 0 1 1 1 1 1 0 0 1 0 1 0 1 1 1 1 1 0 1 1 0 1 0 1 0 0\n",
      " 1 1 1 0 1 1 1 1 1 1 1 1 1 1 1 0 1 0 0 1 1 1 1 1 1 1 1 1 1 1 1 1 1 1 1 1 1\n",
      " 1 1 1 1 1 1 1 0 0 0 0 0 0 1] \n",
      "\n",
      " ['malignant' 'benign']\n"
     ]
    }
   ],
   "source": [
    "print(breast_cancer_data.target,'\\n\\n',\n",
    "      breast_cancer_data.target_names)"
   ]
  },
  {
   "cell_type": "markdown",
   "id": "abf45685",
   "metadata": {},
   "source": [
    "#### Task 4\n",
    "We have our data, but now it needs to be split into training and validation sets. Luckily, `sklearn` has a function that does that for us. Begin by importing the `train_test_split` function from `sklearn.model_selection`."
   ]
  },
  {
   "cell_type": "code",
   "execution_count": 4,
   "id": "054fbbc3",
   "metadata": {},
   "outputs": [],
   "source": [
    "from sklearn.model_selection import train_test_split"
   ]
  },
  {
   "cell_type": "markdown",
   "id": "cd73cfad",
   "metadata": {},
   "source": [
    "#### Task 5\n",
    "Call the `train_test_split` function. Use `test_size = 0.2` and `random_state = 100`. Store the four values it returns in variables named `training_data`, `validation_data`, `training_labels`, and `validation_labels`."
   ]
  },
  {
   "cell_type": "code",
   "execution_count": 5,
   "id": "c3e79c13",
   "metadata": {},
   "outputs": [],
   "source": [
    "training_data, validation_data, training_labels, validation_labels = train_test_split(breast_cancer_data.data,breast_cancer_data.target, test_size = 0.2, random_state = 100)"
   ]
  },
  {
   "cell_type": "markdown",
   "id": "d6bc869b",
   "metadata": {},
   "source": [
    "#### Task 6\n",
    "Let’s confirm that worked correctly. Print out the length of `training_data` and `training_labels`. They should be the same size - one label for every piece of data!"
   ]
  },
  {
   "cell_type": "code",
   "execution_count": 6,
   "id": "4086e6a3",
   "metadata": {},
   "outputs": [
    {
     "name": "stdout",
     "output_type": "stream",
     "text": [
      "455 455 114 114\n"
     ]
    }
   ],
   "source": [
    "print(len(training_data),\n",
    "      len(training_labels),\n",
    "      len(validation_data),\n",
    "      len(validation_labels))"
   ]
  },
  {
   "cell_type": "markdown",
   "id": "4a1bf498",
   "metadata": {},
   "source": [
    "#### Task 7\n",
    "Now that we’ve created training and validation sets, we can create a `KNeighborsClassifier` and test its accuracy. Begin by importing `KNeighborsClassifier` from `sklearn.neighbors`."
   ]
  },
  {
   "cell_type": "code",
   "execution_count": 7,
   "id": "bed9f6e8",
   "metadata": {},
   "outputs": [],
   "source": [
    "from sklearn.neighbors import KNeighborsClassifier"
   ]
  },
  {
   "cell_type": "markdown",
   "id": "5684f095",
   "metadata": {},
   "source": [
    "#### Task 8\n",
    "Create a `KNeighborsClassifier` where `n_neighbors = 3`. Name the classifier `classifier`."
   ]
  },
  {
   "cell_type": "code",
   "execution_count": 8,
   "id": "1c6b67c2",
   "metadata": {},
   "outputs": [],
   "source": [
    "classifier = KNeighborsClassifier(n_neighbors = 3)"
   ]
  },
  {
   "cell_type": "markdown",
   "id": "4ce122e8",
   "metadata": {},
   "source": [
    "#### Task 9\n",
    "Train your classifier using the `fit` function."
   ]
  },
  {
   "cell_type": "code",
   "execution_count": 9,
   "id": "adb89c0e",
   "metadata": {},
   "outputs": [
    {
     "data": {
      "text/html": [
       "<style>#sk-container-id-1 {color: black;background-color: white;}#sk-container-id-1 pre{padding: 0;}#sk-container-id-1 div.sk-toggleable {background-color: white;}#sk-container-id-1 label.sk-toggleable__label {cursor: pointer;display: block;width: 100%;margin-bottom: 0;padding: 0.3em;box-sizing: border-box;text-align: center;}#sk-container-id-1 label.sk-toggleable__label-arrow:before {content: \"▸\";float: left;margin-right: 0.25em;color: #696969;}#sk-container-id-1 label.sk-toggleable__label-arrow:hover:before {color: black;}#sk-container-id-1 div.sk-estimator:hover label.sk-toggleable__label-arrow:before {color: black;}#sk-container-id-1 div.sk-toggleable__content {max-height: 0;max-width: 0;overflow: hidden;text-align: left;background-color: #f0f8ff;}#sk-container-id-1 div.sk-toggleable__content pre {margin: 0.2em;color: black;border-radius: 0.25em;background-color: #f0f8ff;}#sk-container-id-1 input.sk-toggleable__control:checked~div.sk-toggleable__content {max-height: 200px;max-width: 100%;overflow: auto;}#sk-container-id-1 input.sk-toggleable__control:checked~label.sk-toggleable__label-arrow:before {content: \"▾\";}#sk-container-id-1 div.sk-estimator input.sk-toggleable__control:checked~label.sk-toggleable__label {background-color: #d4ebff;}#sk-container-id-1 div.sk-label input.sk-toggleable__control:checked~label.sk-toggleable__label {background-color: #d4ebff;}#sk-container-id-1 input.sk-hidden--visually {border: 0;clip: rect(1px 1px 1px 1px);clip: rect(1px, 1px, 1px, 1px);height: 1px;margin: -1px;overflow: hidden;padding: 0;position: absolute;width: 1px;}#sk-container-id-1 div.sk-estimator {font-family: monospace;background-color: #f0f8ff;border: 1px dotted black;border-radius: 0.25em;box-sizing: border-box;margin-bottom: 0.5em;}#sk-container-id-1 div.sk-estimator:hover {background-color: #d4ebff;}#sk-container-id-1 div.sk-parallel-item::after {content: \"\";width: 100%;border-bottom: 1px solid gray;flex-grow: 1;}#sk-container-id-1 div.sk-label:hover label.sk-toggleable__label {background-color: #d4ebff;}#sk-container-id-1 div.sk-serial::before {content: \"\";position: absolute;border-left: 1px solid gray;box-sizing: border-box;top: 0;bottom: 0;left: 50%;z-index: 0;}#sk-container-id-1 div.sk-serial {display: flex;flex-direction: column;align-items: center;background-color: white;padding-right: 0.2em;padding-left: 0.2em;position: relative;}#sk-container-id-1 div.sk-item {position: relative;z-index: 1;}#sk-container-id-1 div.sk-parallel {display: flex;align-items: stretch;justify-content: center;background-color: white;position: relative;}#sk-container-id-1 div.sk-item::before, #sk-container-id-1 div.sk-parallel-item::before {content: \"\";position: absolute;border-left: 1px solid gray;box-sizing: border-box;top: 0;bottom: 0;left: 50%;z-index: -1;}#sk-container-id-1 div.sk-parallel-item {display: flex;flex-direction: column;z-index: 1;position: relative;background-color: white;}#sk-container-id-1 div.sk-parallel-item:first-child::after {align-self: flex-end;width: 50%;}#sk-container-id-1 div.sk-parallel-item:last-child::after {align-self: flex-start;width: 50%;}#sk-container-id-1 div.sk-parallel-item:only-child::after {width: 0;}#sk-container-id-1 div.sk-dashed-wrapped {border: 1px dashed gray;margin: 0 0.4em 0.5em 0.4em;box-sizing: border-box;padding-bottom: 0.4em;background-color: white;}#sk-container-id-1 div.sk-label label {font-family: monospace;font-weight: bold;display: inline-block;line-height: 1.2em;}#sk-container-id-1 div.sk-label-container {text-align: center;}#sk-container-id-1 div.sk-container {/* jupyter's `normalize.less` sets `[hidden] { display: none; }` but bootstrap.min.css set `[hidden] { display: none !important; }` so we also need the `!important` here to be able to override the default hidden behavior on the sphinx rendered scikit-learn.org. See: https://github.com/scikit-learn/scikit-learn/issues/21755 */display: inline-block !important;position: relative;}#sk-container-id-1 div.sk-text-repr-fallback {display: none;}</style><div id=\"sk-container-id-1\" class=\"sk-top-container\"><div class=\"sk-text-repr-fallback\"><pre>KNeighborsClassifier(n_neighbors=3)</pre><b>In a Jupyter environment, please rerun this cell to show the HTML representation or trust the notebook. <br />On GitHub, the HTML representation is unable to render, please try loading this page with nbviewer.org.</b></div><div class=\"sk-container\" hidden><div class=\"sk-item\"><div class=\"sk-estimator sk-toggleable\"><input class=\"sk-toggleable__control sk-hidden--visually\" id=\"sk-estimator-id-1\" type=\"checkbox\" checked><label for=\"sk-estimator-id-1\" class=\"sk-toggleable__label sk-toggleable__label-arrow\">KNeighborsClassifier</label><div class=\"sk-toggleable__content\"><pre>KNeighborsClassifier(n_neighbors=3)</pre></div></div></div></div></div>"
      ],
      "text/plain": [
       "KNeighborsClassifier(n_neighbors=3)"
      ]
     },
     "execution_count": 9,
     "metadata": {},
     "output_type": "execute_result"
    }
   ],
   "source": [
    "classifier.fit(training_data, training_labels)"
   ]
  },
  {
   "cell_type": "markdown",
   "id": "0f3cf4d7",
   "metadata": {},
   "source": [
    "#### Task 10\n",
    "Now that the classifier has been trained, let’s find how accurate it is on the validation set. Call the classifier’s `score` function on the validation set and the validation labels. Print the result."
   ]
  },
  {
   "cell_type": "code",
   "execution_count": 10,
   "id": "12a936c5",
   "metadata": {},
   "outputs": [
    {
     "name": "stdout",
     "output_type": "stream",
     "text": [
      "0.9473684210526315\n"
     ]
    }
   ],
   "source": [
    "print(classifier.score(validation_data, validation_labels))"
   ]
  },
  {
   "cell_type": "markdown",
   "id": "21be999a",
   "metadata": {},
   "source": [
    "#### Task 11\n",
    "The classifier does pretty well when `k = 3`. But maybe there’s a better `k`! Put the previous 3 lines of code inside a for loop. The loop should have a variable named `k` that starts at `1` and increases to `100`. Rather than `n_neighbors` always being `3`, it should be this new variable `k`.\n",
    "\n",
    "You should now see 100 different validation accuracies print out. Which `k` seems the best?"
   ]
  },
  {
   "cell_type": "code",
   "execution_count": 11,
   "id": "8b706b2e",
   "metadata": {},
   "outputs": [
    {
     "name": "stdout",
     "output_type": "stream",
     "text": [
      "k:    score:\n",
      "056   0.9649122807017544\n",
      "024   0.9649122807017544\n",
      "023   0.9649122807017544\n",
      "055   0.9561403508771930\n",
      "054   0.9561403508771930\n",
      "050   0.9561403508771930\n",
      "049   0.9561403508771930\n",
      "048   0.9561403508771930\n",
      "047   0.9561403508771930\n",
      "045   0.9561403508771930\n",
      "043   0.9561403508771930\n",
      "042   0.9561403508771930\n",
      "041   0.9561403508771930\n",
      "040   0.9561403508771930\n",
      "039   0.9561403508771930\n",
      "038   0.9561403508771930\n",
      "037   0.9561403508771930\n",
      "028   0.9561403508771930\n",
      "027   0.9561403508771930\n",
      "026   0.9561403508771930\n",
      "025   0.9561403508771930\n",
      "022   0.9561403508771930\n",
      "021   0.9561403508771930\n",
      "020   0.9561403508771930\n",
      "019   0.9561403508771930\n",
      "018   0.9561403508771930\n",
      "017   0.9561403508771930\n",
      "016   0.9561403508771930\n",
      "015   0.9561403508771930\n",
      "014   0.9561403508771930\n",
      "013   0.9561403508771930\n",
      "012   0.9561403508771930\n",
      "011   0.9561403508771930\n",
      "010   0.9561403508771930\n",
      "009   0.9561403508771930\n",
      "063   0.9473684210526315\n",
      "058   0.9473684210526315\n",
      "057   0.9473684210526315\n",
      "053   0.9473684210526315\n",
      "052   0.9473684210526315\n",
      "051   0.9473684210526315\n",
      "046   0.9473684210526315\n",
      "044   0.9473684210526315\n",
      "036   0.9473684210526315\n",
      "035   0.9473684210526315\n",
      "034   0.9473684210526315\n",
      "033   0.9473684210526315\n",
      "032   0.9473684210526315\n",
      "031   0.9473684210526315\n",
      "030   0.9473684210526315\n",
      "029   0.9473684210526315\n",
      "008   0.9473684210526315\n",
      "007   0.9473684210526315\n",
      "006   0.9473684210526315\n",
      "005   0.9473684210526315\n",
      "004   0.9473684210526315\n",
      "003   0.9473684210526315\n",
      "098   0.9385964912280702\n",
      "096   0.9385964912280702\n",
      "092   0.9385964912280702\n",
      "088   0.9385964912280702\n",
      "087   0.9385964912280702\n",
      "086   0.9385964912280702\n",
      "084   0.9385964912280702\n",
      "076   0.9385964912280702\n",
      "075   0.9385964912280702\n",
      "074   0.9385964912280702\n",
      "073   0.9385964912280702\n",
      "072   0.9385964912280702\n",
      "071   0.9385964912280702\n",
      "070   0.9385964912280702\n",
      "069   0.9385964912280702\n",
      "068   0.9385964912280702\n",
      "067   0.9385964912280702\n",
      "066   0.9385964912280702\n",
      "065   0.9385964912280702\n",
      "064   0.9385964912280702\n",
      "062   0.9385964912280702\n",
      "059   0.9385964912280702\n",
      "002   0.9385964912280702\n",
      "100   0.9298245614035088\n",
      "099   0.9298245614035088\n",
      "097   0.9298245614035088\n",
      "095   0.9298245614035088\n",
      "094   0.9298245614035088\n",
      "090   0.9298245614035088\n",
      "089   0.9298245614035088\n",
      "085   0.9298245614035088\n",
      "082   0.9298245614035088\n",
      "080   0.9298245614035088\n",
      "079   0.9298245614035088\n",
      "078   0.9298245614035088\n",
      "077   0.9298245614035088\n",
      "061   0.9298245614035088\n",
      "060   0.9298245614035088\n",
      "001   0.9298245614035088\n",
      "093   0.9210526315789473\n",
      "091   0.9210526315789473\n",
      "083   0.9210526315789473\n",
      "081   0.9210526315789473\n"
     ]
    }
   ],
   "source": [
    "# Creates a list of k values and their associated validation accuracies\n",
    "scores = []\n",
    "for k in range(1, 101):\n",
    "  classifier = KNeighborsClassifier(n_neighbors = k)\n",
    "  classifier.fit(training_data, training_labels)\n",
    "  score = classifier.score(validation_data, validation_labels)\n",
    "  scores.append([score, k])\n",
    "    \n",
    "# Sorts the list in descending order, from highest validation accuracy to lowest\n",
    "scores.sort(reverse = True) \n",
    "\n",
    "print('k:    score:')\n",
    "\n",
    "# Prints the list and adds padding\n",
    "for inner_list in scores:\n",
    "  print(str(inner_list[1]).rjust(3, '0'), ' ', str(inner_list[0]).ljust(18, '0'))"
   ]
  },
  {
   "cell_type": "markdown",
   "id": "140461c0",
   "metadata": {},
   "source": [
    "#### Task 12\n",
    "We now have the validation accuracy for 100 different `k`s. Rather than just printing it out, let’s make a graph using `matplotlib`. Begin by importing `matplotlib.pyplot` as `plt`."
   ]
  },
  {
   "cell_type": "code",
   "execution_count": 12,
   "id": "8861751a",
   "metadata": {},
   "outputs": [],
   "source": [
    "import matplotlib.pyplot as plt"
   ]
  },
  {
   "cell_type": "markdown",
   "id": "76137f11",
   "metadata": {},
   "source": [
    "#### Task 13\n",
    "The x-axis should be the values of `k` that we tested. This should be a list of numbers between 1 and 100. You can use the `range` function to make this list. Store it in a variable named `k_list`."
   ]
  },
  {
   "cell_type": "code",
   "execution_count": 13,
   "id": "bedb1164",
   "metadata": {},
   "outputs": [
    {
     "data": {
      "text/plain": [
       "[1,\n",
       " 2,\n",
       " 3,\n",
       " 4,\n",
       " 5,\n",
       " 6,\n",
       " 7,\n",
       " 8,\n",
       " 9,\n",
       " 10,\n",
       " 11,\n",
       " 12,\n",
       " 13,\n",
       " 14,\n",
       " 15,\n",
       " 16,\n",
       " 17,\n",
       " 18,\n",
       " 19,\n",
       " 20,\n",
       " 21,\n",
       " 22,\n",
       " 23,\n",
       " 24,\n",
       " 25,\n",
       " 26,\n",
       " 27,\n",
       " 28,\n",
       " 29,\n",
       " 30,\n",
       " 31,\n",
       " 32,\n",
       " 33,\n",
       " 34,\n",
       " 35,\n",
       " 36,\n",
       " 37,\n",
       " 38,\n",
       " 39,\n",
       " 40,\n",
       " 41,\n",
       " 42,\n",
       " 43,\n",
       " 44,\n",
       " 45,\n",
       " 46,\n",
       " 47,\n",
       " 48,\n",
       " 49,\n",
       " 50,\n",
       " 51,\n",
       " 52,\n",
       " 53,\n",
       " 54,\n",
       " 55,\n",
       " 56,\n",
       " 57,\n",
       " 58,\n",
       " 59,\n",
       " 60,\n",
       " 61,\n",
       " 62,\n",
       " 63,\n",
       " 64,\n",
       " 65,\n",
       " 66,\n",
       " 67,\n",
       " 68,\n",
       " 69,\n",
       " 70,\n",
       " 71,\n",
       " 72,\n",
       " 73,\n",
       " 74,\n",
       " 75,\n",
       " 76,\n",
       " 77,\n",
       " 78,\n",
       " 79,\n",
       " 80,\n",
       " 81,\n",
       " 82,\n",
       " 83,\n",
       " 84,\n",
       " 85,\n",
       " 86,\n",
       " 87,\n",
       " 88,\n",
       " 89,\n",
       " 90,\n",
       " 91,\n",
       " 92,\n",
       " 93,\n",
       " 94,\n",
       " 95,\n",
       " 96,\n",
       " 97,\n",
       " 98,\n",
       " 99,\n",
       " 100]"
      ]
     },
     "execution_count": 13,
     "metadata": {},
     "output_type": "execute_result"
    }
   ],
   "source": [
    "k_list = [k for k in range(1,101)]\n",
    "k_list"
   ]
  },
  {
   "cell_type": "markdown",
   "id": "120eb810",
   "metadata": {},
   "source": [
    "#### Task 14\n",
    "The y-axis of our graph should be the validation accuracy. Instead of printing the validation accuracies, we want to add them to a list. Outside of the for loop, create an empty list named `accuracies`. Inside the for loop, instead of printing each accuracy, append it to `accuracies`."
   ]
  },
  {
   "cell_type": "code",
   "execution_count": 14,
   "id": "a2c2f385",
   "metadata": {},
   "outputs": [
    {
     "data": {
      "text/plain": [
       "[0.9298245614035088,\n",
       " 0.9385964912280702,\n",
       " 0.9473684210526315,\n",
       " 0.9473684210526315,\n",
       " 0.9473684210526315,\n",
       " 0.9473684210526315,\n",
       " 0.9473684210526315,\n",
       " 0.9473684210526315,\n",
       " 0.956140350877193,\n",
       " 0.956140350877193,\n",
       " 0.956140350877193,\n",
       " 0.956140350877193,\n",
       " 0.956140350877193,\n",
       " 0.956140350877193,\n",
       " 0.956140350877193,\n",
       " 0.956140350877193,\n",
       " 0.956140350877193,\n",
       " 0.956140350877193,\n",
       " 0.956140350877193,\n",
       " 0.956140350877193,\n",
       " 0.956140350877193,\n",
       " 0.956140350877193,\n",
       " 0.9649122807017544,\n",
       " 0.9649122807017544,\n",
       " 0.956140350877193,\n",
       " 0.956140350877193,\n",
       " 0.956140350877193,\n",
       " 0.956140350877193,\n",
       " 0.9473684210526315,\n",
       " 0.9473684210526315,\n",
       " 0.9473684210526315,\n",
       " 0.9473684210526315,\n",
       " 0.9473684210526315,\n",
       " 0.9473684210526315,\n",
       " 0.9473684210526315,\n",
       " 0.9473684210526315,\n",
       " 0.956140350877193,\n",
       " 0.956140350877193,\n",
       " 0.956140350877193,\n",
       " 0.956140350877193,\n",
       " 0.956140350877193,\n",
       " 0.956140350877193,\n",
       " 0.956140350877193,\n",
       " 0.9473684210526315,\n",
       " 0.956140350877193,\n",
       " 0.9473684210526315,\n",
       " 0.956140350877193,\n",
       " 0.956140350877193,\n",
       " 0.956140350877193,\n",
       " 0.956140350877193,\n",
       " 0.9473684210526315,\n",
       " 0.9473684210526315,\n",
       " 0.9473684210526315,\n",
       " 0.956140350877193,\n",
       " 0.956140350877193,\n",
       " 0.9649122807017544,\n",
       " 0.9473684210526315,\n",
       " 0.9473684210526315,\n",
       " 0.9385964912280702,\n",
       " 0.9298245614035088,\n",
       " 0.9298245614035088,\n",
       " 0.9385964912280702,\n",
       " 0.9473684210526315,\n",
       " 0.9385964912280702,\n",
       " 0.9385964912280702,\n",
       " 0.9385964912280702,\n",
       " 0.9385964912280702,\n",
       " 0.9385964912280702,\n",
       " 0.9385964912280702,\n",
       " 0.9385964912280702,\n",
       " 0.9385964912280702,\n",
       " 0.9385964912280702,\n",
       " 0.9385964912280702,\n",
       " 0.9385964912280702,\n",
       " 0.9385964912280702,\n",
       " 0.9385964912280702,\n",
       " 0.9298245614035088,\n",
       " 0.9298245614035088,\n",
       " 0.9298245614035088,\n",
       " 0.9298245614035088,\n",
       " 0.9210526315789473,\n",
       " 0.9298245614035088,\n",
       " 0.9210526315789473,\n",
       " 0.9385964912280702,\n",
       " 0.9298245614035088,\n",
       " 0.9385964912280702,\n",
       " 0.9385964912280702,\n",
       " 0.9385964912280702,\n",
       " 0.9298245614035088,\n",
       " 0.9298245614035088,\n",
       " 0.9210526315789473,\n",
       " 0.9385964912280702,\n",
       " 0.9210526315789473,\n",
       " 0.9298245614035088,\n",
       " 0.9298245614035088,\n",
       " 0.9385964912280702,\n",
       " 0.9298245614035088,\n",
       " 0.9385964912280702,\n",
       " 0.9298245614035088,\n",
       " 0.9298245614035088]"
      ]
     },
     "execution_count": 14,
     "metadata": {},
     "output_type": "execute_result"
    }
   ],
   "source": [
    "accuracies = []\n",
    "for k in range(1, 101):\n",
    "  classifier = KNeighborsClassifier(n_neighbors = k)\n",
    "  classifier.fit(training_data, training_labels)\n",
    "  score = classifier.score(validation_data, validation_labels)\n",
    "  accuracies.append(score)\n",
    "    \n",
    "accuracies"
   ]
  },
  {
   "cell_type": "markdown",
   "id": "5ede71c7",
   "metadata": {},
   "source": [
    "#### Task 15\n",
    "We can now plot our data! Call `plt.plot()` on `k_list` and `accuracies`. Set the x-axis label to `\"k\"`. Set the y-axis label to `\"Validation Accuracy\"`. Set the title to `\"Breast Cancer Classifier Accuracy\"`. Show your plot."
   ]
  },
  {
   "cell_type": "code",
   "execution_count": 15,
   "id": "a127af58",
   "metadata": {},
   "outputs": [
    {
     "data": {
      "image/png": "[encoded data removed]",
      "text/plain": [
       "<Figure size 640x480 with 1 Axes>"
      ]
     },
     "metadata": {},
     "output_type": "display_data"
    }
   ],
   "source": [
    "plt.plot(k_list, accuracies)\n",
    "plt.xlabel('k')\n",
    "plt.ylabel('Validation Accuracy')\n",
    "plt.title('Breast Cancer Classifier Accuracy')\n",
    "plt.show()"
   ]
  }
 ],
 "metadata": {
  "kernelspec": {
   "display_name": "Python 3 (ipykernel)",
   "language": "python",
   "name": "python3"
  },
  "language_info": {
   "codemirror_mode": {
    "name": "ipython",
    "version": 3
   },
   "file_extension": ".py",
   "mimetype": "text/x-python",
   "name": "python",
   "nbconvert_exporter": "python",
   "pygments_lexer": "ipython3",
   "version": "3.11.7"
  }
 },
 "nbformat": 4,
 "nbformat_minor": 5
}
