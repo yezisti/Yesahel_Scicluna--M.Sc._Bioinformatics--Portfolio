{
 "cells": [
  {
   "cell_type": "markdown",
   "id": "5aa0e703",
   "metadata": {},
   "source": [
    "## Honey Production\n",
    "\n",
    "#### Author: Yesahel Scicluna \n",
    "\n",
    "#### Source: Codecademy. Build a Machine Learning Model. Practice Project - Honey Production\n",
    "\n",
    "#### Concepts: Linear Regression\n",
    "\n",
    "#### Required Data Files: honey_production.csv"
   ]
  },
  {
   "cell_type": "markdown",
   "id": "953d8aeb",
   "metadata": {},
   "source": [
    "#### Task Description\n",
    "As you may have already heard, the honeybees are in a precarious state right now. You may have seen articles about the decline of the honeybee population for various reasons. You want to investigate this decline and how the trends of the past predict the future for the honeybees. "
   ]
  },
  {
   "cell_type": "code",
   "execution_count": 1,
   "id": "7d923a50",
   "metadata": {},
   "outputs": [],
   "source": [
    "import pandas as pd\n",
    "import matplotlib.pyplot as plt\n",
    "import numpy as np\n",
    "from sklearn import linear_model\n",
    "\n",
    "df = pd.read_csv(r\"https://raw.githubusercontent.com/yezisti/Yesahel_Scicluna--M.Sc._Bioinformatics--Portfolio/main/Python/Codecademy/Build%20a%20Machine%20Learning%20Model/honey_production/honey_production.csv\")"
   ]
  },
  {
   "cell_type": "markdown",
   "id": "03eaa994",
   "metadata": {},
   "source": [
    "#### Task 1\n",
    "We have loaded in a DataFrame about honey production in the United States from [Kaggle](https://www.kaggle.com/datasets/jessicali9530/honey-production). It is called `df` and has the following columns:\n",
    "\n",
    "- `state`\n",
    "- `numcol`\n",
    "- `yieldpercol`\n",
    "- `totalprod`\n",
    "- `stocks`\n",
    "- `priceperlb`\n",
    "- `prodvalue`\n",
    "- `year`\n",
    "\n",
    "Use `.head()` to get a sense of how this DataFrame is structured."
   ]
  },
  {
   "cell_type": "code",
   "execution_count": 2,
   "id": "20d839a3",
   "metadata": {},
   "outputs": [
    {
     "data": {
      "text/html": [
       "<div>\n",
       "<style scoped>\n",
       "    .dataframe tbody tr th:only-of-type {\n",
       "        vertical-align: middle;\n",
       "    }\n",
       "\n",
       "    .dataframe tbody tr th {\n",
       "        vertical-align: top;\n",
       "    }\n",
       "\n",
       "    .dataframe thead th {\n",
       "        text-align: right;\n",
       "    }\n",
       "</style>\n",
       "<table border=\"1\" class=\"dataframe\">\n",
       "  <thead>\n",
       "    <tr style=\"text-align: right;\">\n",
       "      <th></th>\n",
       "      <th>state</th>\n",
       "      <th>numcol</th>\n",
       "      <th>yieldpercol</th>\n",
       "      <th>totalprod</th>\n",
       "      <th>stocks</th>\n",
       "      <th>priceperlb</th>\n",
       "      <th>prodvalue</th>\n",
       "      <th>year</th>\n",
       "    </tr>\n",
       "  </thead>\n",
       "  <tbody>\n",
       "    <tr>\n",
       "      <th>0</th>\n",
       "      <td>AL</td>\n",
       "      <td>16000.0</td>\n",
       "      <td>71</td>\n",
       "      <td>1136000.0</td>\n",
       "      <td>159000.0</td>\n",
       "      <td>0.72</td>\n",
       "      <td>818000.0</td>\n",
       "      <td>1998</td>\n",
       "    </tr>\n",
       "    <tr>\n",
       "      <th>1</th>\n",
       "      <td>AZ</td>\n",
       "      <td>55000.0</td>\n",
       "      <td>60</td>\n",
       "      <td>3300000.0</td>\n",
       "      <td>1485000.0</td>\n",
       "      <td>0.64</td>\n",
       "      <td>2112000.0</td>\n",
       "      <td>1998</td>\n",
       "    </tr>\n",
       "    <tr>\n",
       "      <th>2</th>\n",
       "      <td>AR</td>\n",
       "      <td>53000.0</td>\n",
       "      <td>65</td>\n",
       "      <td>3445000.0</td>\n",
       "      <td>1688000.0</td>\n",
       "      <td>0.59</td>\n",
       "      <td>2033000.0</td>\n",
       "      <td>1998</td>\n",
       "    </tr>\n",
       "    <tr>\n",
       "      <th>3</th>\n",
       "      <td>CA</td>\n",
       "      <td>450000.0</td>\n",
       "      <td>83</td>\n",
       "      <td>37350000.0</td>\n",
       "      <td>12326000.0</td>\n",
       "      <td>0.62</td>\n",
       "      <td>23157000.0</td>\n",
       "      <td>1998</td>\n",
       "    </tr>\n",
       "    <tr>\n",
       "      <th>4</th>\n",
       "      <td>CO</td>\n",
       "      <td>27000.0</td>\n",
       "      <td>72</td>\n",
       "      <td>1944000.0</td>\n",
       "      <td>1594000.0</td>\n",
       "      <td>0.70</td>\n",
       "      <td>1361000.0</td>\n",
       "      <td>1998</td>\n",
       "    </tr>\n",
       "    <tr>\n",
       "      <th>5</th>\n",
       "      <td>FL</td>\n",
       "      <td>230000.0</td>\n",
       "      <td>98</td>\n",
       "      <td>22540000.0</td>\n",
       "      <td>4508000.0</td>\n",
       "      <td>0.64</td>\n",
       "      <td>14426000.0</td>\n",
       "      <td>1998</td>\n",
       "    </tr>\n",
       "    <tr>\n",
       "      <th>6</th>\n",
       "      <td>GA</td>\n",
       "      <td>75000.0</td>\n",
       "      <td>56</td>\n",
       "      <td>4200000.0</td>\n",
       "      <td>307000.0</td>\n",
       "      <td>0.69</td>\n",
       "      <td>2898000.0</td>\n",
       "      <td>1998</td>\n",
       "    </tr>\n",
       "    <tr>\n",
       "      <th>7</th>\n",
       "      <td>HI</td>\n",
       "      <td>8000.0</td>\n",
       "      <td>118</td>\n",
       "      <td>944000.0</td>\n",
       "      <td>66000.0</td>\n",
       "      <td>0.77</td>\n",
       "      <td>727000.0</td>\n",
       "      <td>1998</td>\n",
       "    </tr>\n",
       "    <tr>\n",
       "      <th>8</th>\n",
       "      <td>ID</td>\n",
       "      <td>120000.0</td>\n",
       "      <td>50</td>\n",
       "      <td>6000000.0</td>\n",
       "      <td>2220000.0</td>\n",
       "      <td>0.65</td>\n",
       "      <td>3900000.0</td>\n",
       "      <td>1998</td>\n",
       "    </tr>\n",
       "    <tr>\n",
       "      <th>9</th>\n",
       "      <td>IL</td>\n",
       "      <td>9000.0</td>\n",
       "      <td>71</td>\n",
       "      <td>639000.0</td>\n",
       "      <td>204000.0</td>\n",
       "      <td>1.19</td>\n",
       "      <td>760000.0</td>\n",
       "      <td>1998</td>\n",
       "    </tr>\n",
       "  </tbody>\n",
       "</table>\n",
       "</div>"
      ],
      "text/plain": [
       "  state    numcol  yieldpercol   totalprod      stocks  priceperlb  \\\n",
       "0    AL   16000.0           71   1136000.0    159000.0        0.72   \n",
       "1    AZ   55000.0           60   3300000.0   1485000.0        0.64   \n",
       "2    AR   53000.0           65   3445000.0   1688000.0        0.59   \n",
       "3    CA  450000.0           83  37350000.0  12326000.0        0.62   \n",
       "4    CO   27000.0           72   1944000.0   1594000.0        0.70   \n",
       "5    FL  230000.0           98  22540000.0   4508000.0        0.64   \n",
       "6    GA   75000.0           56   4200000.0    307000.0        0.69   \n",
       "7    HI    8000.0          118    944000.0     66000.0        0.77   \n",
       "8    ID  120000.0           50   6000000.0   2220000.0        0.65   \n",
       "9    IL    9000.0           71    639000.0    204000.0        1.19   \n",
       "\n",
       "    prodvalue  year  \n",
       "0    818000.0  1998  \n",
       "1   2112000.0  1998  \n",
       "2   2033000.0  1998  \n",
       "3  23157000.0  1998  \n",
       "4   1361000.0  1998  \n",
       "5  14426000.0  1998  \n",
       "6   2898000.0  1998  \n",
       "7    727000.0  1998  \n",
       "8   3900000.0  1998  \n",
       "9    760000.0  1998  "
      ]
     },
     "execution_count": 2,
     "metadata": {},
     "output_type": "execute_result"
    }
   ],
   "source": [
    "df.head(10)"
   ]
  },
  {
   "cell_type": "markdown",
   "id": "d3d3066d",
   "metadata": {},
   "source": [
    "#### Task 2\n",
    "For now, we care about the total production of honey per year. Use the `.groupby()` method provided by `pandas` to get the mean of `totalprod` per year.\n",
    "\n",
    "Store this in a variable called `prod_per_year`."
   ]
  },
  {
   "cell_type": "code",
   "execution_count": 3,
   "id": "321a62b4",
   "metadata": {},
   "outputs": [
    {
     "data": {
      "text/html": [
       "<div>\n",
       "<style scoped>\n",
       "    .dataframe tbody tr th:only-of-type {\n",
       "        vertical-align: middle;\n",
       "    }\n",
       "\n",
       "    .dataframe tbody tr th {\n",
       "        vertical-align: top;\n",
       "    }\n",
       "\n",
       "    .dataframe thead th {\n",
       "        text-align: right;\n",
       "    }\n",
       "</style>\n",
       "<table border=\"1\" class=\"dataframe\">\n",
       "  <thead>\n",
       "    <tr style=\"text-align: right;\">\n",
       "      <th></th>\n",
       "      <th>year</th>\n",
       "      <th>totalprod</th>\n",
       "    </tr>\n",
       "  </thead>\n",
       "  <tbody>\n",
       "    <tr>\n",
       "      <th>0</th>\n",
       "      <td>1998</td>\n",
       "      <td>5.105093e+06</td>\n",
       "    </tr>\n",
       "    <tr>\n",
       "      <th>1</th>\n",
       "      <td>1999</td>\n",
       "      <td>4.706674e+06</td>\n",
       "    </tr>\n",
       "    <tr>\n",
       "      <th>2</th>\n",
       "      <td>2000</td>\n",
       "      <td>5.106000e+06</td>\n",
       "    </tr>\n",
       "    <tr>\n",
       "      <th>3</th>\n",
       "      <td>2001</td>\n",
       "      <td>4.221545e+06</td>\n",
       "    </tr>\n",
       "    <tr>\n",
       "      <th>4</th>\n",
       "      <td>2002</td>\n",
       "      <td>3.892386e+06</td>\n",
       "    </tr>\n",
       "    <tr>\n",
       "      <th>5</th>\n",
       "      <td>2003</td>\n",
       "      <td>4.122091e+06</td>\n",
       "    </tr>\n",
       "    <tr>\n",
       "      <th>6</th>\n",
       "      <td>2004</td>\n",
       "      <td>4.456805e+06</td>\n",
       "    </tr>\n",
       "    <tr>\n",
       "      <th>7</th>\n",
       "      <td>2005</td>\n",
       "      <td>4.243146e+06</td>\n",
       "    </tr>\n",
       "    <tr>\n",
       "      <th>8</th>\n",
       "      <td>2006</td>\n",
       "      <td>3.761902e+06</td>\n",
       "    </tr>\n",
       "    <tr>\n",
       "      <th>9</th>\n",
       "      <td>2007</td>\n",
       "      <td>3.600512e+06</td>\n",
       "    </tr>\n",
       "    <tr>\n",
       "      <th>10</th>\n",
       "      <td>2008</td>\n",
       "      <td>3.974927e+06</td>\n",
       "    </tr>\n",
       "    <tr>\n",
       "      <th>11</th>\n",
       "      <td>2009</td>\n",
       "      <td>3.626700e+06</td>\n",
       "    </tr>\n",
       "    <tr>\n",
       "      <th>12</th>\n",
       "      <td>2010</td>\n",
       "      <td>4.382350e+06</td>\n",
       "    </tr>\n",
       "    <tr>\n",
       "      <th>13</th>\n",
       "      <td>2011</td>\n",
       "      <td>3.680025e+06</td>\n",
       "    </tr>\n",
       "    <tr>\n",
       "      <th>14</th>\n",
       "      <td>2012</td>\n",
       "      <td>3.522675e+06</td>\n",
       "    </tr>\n",
       "  </tbody>\n",
       "</table>\n",
       "</div>"
      ],
      "text/plain": [
       "    year     totalprod\n",
       "0   1998  5.105093e+06\n",
       "1   1999  4.706674e+06\n",
       "2   2000  5.106000e+06\n",
       "3   2001  4.221545e+06\n",
       "4   2002  3.892386e+06\n",
       "5   2003  4.122091e+06\n",
       "6   2004  4.456805e+06\n",
       "7   2005  4.243146e+06\n",
       "8   2006  3.761902e+06\n",
       "9   2007  3.600512e+06\n",
       "10  2008  3.974927e+06\n",
       "11  2009  3.626700e+06\n",
       "12  2010  4.382350e+06\n",
       "13  2011  3.680025e+06\n",
       "14  2012  3.522675e+06"
      ]
     },
     "execution_count": 3,
     "metadata": {},
     "output_type": "execute_result"
    }
   ],
   "source": [
    "prod_per_year = df.groupby('year')['totalprod'].mean().reset_index()\n",
    "prod_per_year"
   ]
  },
  {
   "cell_type": "markdown",
   "id": "d645cc61",
   "metadata": {},
   "source": [
    "#### Task 3\n",
    "Create a variable called `X` that is the column of `year`s in this `prod_per_year` DataFrame.\n",
    "\n",
    "After creating `X`, reshape it to get it into the right format for scikit-learn."
   ]
  },
  {
   "cell_type": "code",
   "execution_count": 4,
   "id": "4ed68e34",
   "metadata": {},
   "outputs": [
    {
     "data": {
      "text/plain": [
       "array([[1998],\n",
       "       [1999],\n",
       "       [2000],\n",
       "       [2001],\n",
       "       [2002],\n",
       "       [2003],\n",
       "       [2004],\n",
       "       [2005],\n",
       "       [2006],\n",
       "       [2007],\n",
       "       [2008],\n",
       "       [2009],\n",
       "       [2010],\n",
       "       [2011],\n",
       "       [2012]], dtype=int64)"
      ]
     },
     "execution_count": 4,
     "metadata": {},
     "output_type": "execute_result"
    }
   ],
   "source": [
    "X = prod_per_year['year']\n",
    "X = X.values.reshape(-1, 1)\n",
    "X"
   ]
  },
  {
   "cell_type": "markdown",
   "id": "b43da1d2",
   "metadata": {},
   "source": [
    "#### Task 4\n",
    "Create a variable called `y` that is the `totalprod` column in the `prod_per_year` dataset."
   ]
  },
  {
   "cell_type": "code",
   "execution_count": 5,
   "id": "6cb409b0",
   "metadata": {},
   "outputs": [
    {
     "data": {
      "text/plain": [
       "0     5.105093e+06\n",
       "1     4.706674e+06\n",
       "2     5.106000e+06\n",
       "3     4.221545e+06\n",
       "4     3.892386e+06\n",
       "5     4.122091e+06\n",
       "6     4.456805e+06\n",
       "7     4.243146e+06\n",
       "8     3.761902e+06\n",
       "9     3.600512e+06\n",
       "10    3.974927e+06\n",
       "11    3.626700e+06\n",
       "12    4.382350e+06\n",
       "13    3.680025e+06\n",
       "14    3.522675e+06\n",
       "Name: totalprod, dtype: float64"
      ]
     },
     "execution_count": 5,
     "metadata": {},
     "output_type": "execute_result"
    }
   ],
   "source": [
    "y = prod_per_year['totalprod']\n",
    "y"
   ]
  },
  {
   "cell_type": "markdown",
   "id": "00ecd475",
   "metadata": {},
   "source": [
    "#### Task 5\n",
    "Plot `y` vs `X` as a scatterplot. \n",
    "\n",
    "Display the plot.\n",
    "\n",
    "Can you see a vaguely linear relationship between these variables?"
   ]
  },
  {
   "cell_type": "code",
   "execution_count": 6,
   "id": "b7ba1cd3",
   "metadata": {},
   "outputs": [
    {
     "data": {
      "image/png": "[encoded data removed]",
      "text/plain": [
       "<Figure size 640x480 with 1 Axes>"
      ]
     },
     "metadata": {},
     "output_type": "display_data"
    }
   ],
   "source": [
    "plt.scatter(X, y)\n",
    "plt.xlabel('Year')\n",
    "plt.ylabel('Honey Production')\n",
    "plt.ticklabel_format(style = 'plain')\n",
    "plt.show()\n",
    "plt.close()"
   ]
  },
  {
   "cell_type": "markdown",
   "id": "aba0a7b3",
   "metadata": {},
   "source": [
    "#### Task 6\n",
    "Create a linear regression model from scikit-learn and call it `regr`.\n",
    "\n",
    "Use the `LinearRegression()` constructor from the `linear_model` module to do this."
   ]
  },
  {
   "cell_type": "code",
   "execution_count": 7,
   "id": "b7c4c9cd",
   "metadata": {},
   "outputs": [],
   "source": [
    "regr = linear_model.LinearRegression()"
   ]
  },
  {
   "cell_type": "markdown",
   "id": "66f2d418",
   "metadata": {},
   "source": [
    "#### Task 7\n",
    "Fit the model to the data by using `.fit()`."
   ]
  },
  {
   "cell_type": "code",
   "execution_count": 8,
   "id": "1b3dba74",
   "metadata": {},
   "outputs": [
    {
     "data": {
      "text/html": [
       "<style>#sk-container-id-1 {color: black;background-color: white;}#sk-container-id-1 pre{padding: 0;}#sk-container-id-1 div.sk-toggleable {background-color: white;}#sk-container-id-1 label.sk-toggleable__label {cursor: pointer;display: block;width: 100%;margin-bottom: 0;padding: 0.3em;box-sizing: border-box;text-align: center;}#sk-container-id-1 label.sk-toggleable__label-arrow:before {content: \"▸\";float: left;margin-right: 0.25em;color: #696969;}#sk-container-id-1 label.sk-toggleable__label-arrow:hover:before {color: black;}#sk-container-id-1 div.sk-estimator:hover label.sk-toggleable__label-arrow:before {color: black;}#sk-container-id-1 div.sk-toggleable__content {max-height: 0;max-width: 0;overflow: hidden;text-align: left;background-color: #f0f8ff;}#sk-container-id-1 div.sk-toggleable__content pre {margin: 0.2em;color: black;border-radius: 0.25em;background-color: #f0f8ff;}#sk-container-id-1 input.sk-toggleable__control:checked~div.sk-toggleable__content {max-height: 200px;max-width: 100%;overflow: auto;}#sk-container-id-1 input.sk-toggleable__control:checked~label.sk-toggleable__label-arrow:before {content: \"▾\";}#sk-container-id-1 div.sk-estimator input.sk-toggleable__control:checked~label.sk-toggleable__label {background-color: #d4ebff;}#sk-container-id-1 div.sk-label input.sk-toggleable__control:checked~label.sk-toggleable__label {background-color: #d4ebff;}#sk-container-id-1 input.sk-hidden--visually {border: 0;clip: rect(1px 1px 1px 1px);clip: rect(1px, 1px, 1px, 1px);height: 1px;margin: -1px;overflow: hidden;padding: 0;position: absolute;width: 1px;}#sk-container-id-1 div.sk-estimator {font-family: monospace;background-color: #f0f8ff;border: 1px dotted black;border-radius: 0.25em;box-sizing: border-box;margin-bottom: 0.5em;}#sk-container-id-1 div.sk-estimator:hover {background-color: #d4ebff;}#sk-container-id-1 div.sk-parallel-item::after {content: \"\";width: 100%;border-bottom: 1px solid gray;flex-grow: 1;}#sk-container-id-1 div.sk-label:hover label.sk-toggleable__label {background-color: #d4ebff;}#sk-container-id-1 div.sk-serial::before {content: \"\";position: absolute;border-left: 1px solid gray;box-sizing: border-box;top: 0;bottom: 0;left: 50%;z-index: 0;}#sk-container-id-1 div.sk-serial {display: flex;flex-direction: column;align-items: center;background-color: white;padding-right: 0.2em;padding-left: 0.2em;position: relative;}#sk-container-id-1 div.sk-item {position: relative;z-index: 1;}#sk-container-id-1 div.sk-parallel {display: flex;align-items: stretch;justify-content: center;background-color: white;position: relative;}#sk-container-id-1 div.sk-item::before, #sk-container-id-1 div.sk-parallel-item::before {content: \"\";position: absolute;border-left: 1px solid gray;box-sizing: border-box;top: 0;bottom: 0;left: 50%;z-index: -1;}#sk-container-id-1 div.sk-parallel-item {display: flex;flex-direction: column;z-index: 1;position: relative;background-color: white;}#sk-container-id-1 div.sk-parallel-item:first-child::after {align-self: flex-end;width: 50%;}#sk-container-id-1 div.sk-parallel-item:last-child::after {align-self: flex-start;width: 50%;}#sk-container-id-1 div.sk-parallel-item:only-child::after {width: 0;}#sk-container-id-1 div.sk-dashed-wrapped {border: 1px dashed gray;margin: 0 0.4em 0.5em 0.4em;box-sizing: border-box;padding-bottom: 0.4em;background-color: white;}#sk-container-id-1 div.sk-label label {font-family: monospace;font-weight: bold;display: inline-block;line-height: 1.2em;}#sk-container-id-1 div.sk-label-container {text-align: center;}#sk-container-id-1 div.sk-container {/* jupyter's `normalize.less` sets `[hidden] { display: none; }` but bootstrap.min.css set `[hidden] { display: none !important; }` so we also need the `!important` here to be able to override the default hidden behavior on the sphinx rendered scikit-learn.org. See: https://github.com/scikit-learn/scikit-learn/issues/21755 */display: inline-block !important;position: relative;}#sk-container-id-1 div.sk-text-repr-fallback {display: none;}</style><div id=\"sk-container-id-1\" class=\"sk-top-container\"><div class=\"sk-text-repr-fallback\"><pre>LinearRegression()</pre><b>In a Jupyter environment, please rerun this cell to show the HTML representation or trust the notebook. <br />On GitHub, the HTML representation is unable to render, please try loading this page with nbviewer.org.</b></div><div class=\"sk-container\" hidden><div class=\"sk-item\"><div class=\"sk-estimator sk-toggleable\"><input class=\"sk-toggleable__control sk-hidden--visually\" id=\"sk-estimator-id-1\" type=\"checkbox\" checked><label for=\"sk-estimator-id-1\" class=\"sk-toggleable__label sk-toggleable__label-arrow\">LinearRegression</label><div class=\"sk-toggleable__content\"><pre>LinearRegression()</pre></div></div></div></div></div>"
      ],
      "text/plain": [
       "LinearRegression()"
      ]
     },
     "execution_count": 8,
     "metadata": {},
     "output_type": "execute_result"
    }
   ],
   "source": [
    "regr.fit(X, y)"
   ]
  },
  {
   "cell_type": "markdown",
   "id": "caea368c",
   "metadata": {},
   "source": [
    "#### Task 8\n",
    "After you have fit the model, print out the slope of the line (stored in a list called `regr.coef_`) and the intercept of the line (`regr.intercept_`)."
   ]
  },
  {
   "cell_type": "code",
   "execution_count": 9,
   "id": "f63e6df0",
   "metadata": {},
   "outputs": [
    {
     "name": "stdout",
     "output_type": "stream",
     "text": [
      "[-88303.18915238] 181208083.10732982\n"
     ]
    }
   ],
   "source": [
    "print(regr.coef_, regr.intercept_)"
   ]
  },
  {
   "cell_type": "markdown",
   "id": "38912fc9",
   "metadata": {},
   "source": [
    "#### Task 9\n",
    "Create a list called `y_predict` that is the predictions your `regr` model would make on the `X` data."
   ]
  },
  {
   "cell_type": "code",
   "execution_count": 10,
   "id": "0ba4b50b",
   "metadata": {},
   "outputs": [
    {
     "data": {
      "text/plain": [
       "array([4778311.18087068, 4690007.99171829, 4601704.8025659 ,\n",
       "       4513401.61341354, 4425098.42426115, 4336795.23510876,\n",
       "       4248492.04595637, 4160188.85680401, 4071885.66765162,\n",
       "       3983582.47849923, 3895279.28934687, 3806976.10019448,\n",
       "       3718672.91104209, 3630369.7218897 , 3542066.53273734])"
      ]
     },
     "execution_count": 10,
     "metadata": {},
     "output_type": "execute_result"
    }
   ],
   "source": [
    "y_predict = regr.predict(X)\n",
    "y_predict"
   ]
  },
  {
   "cell_type": "markdown",
   "id": "7387c3e6",
   "metadata": {},
   "source": [
    "#### Task 10\n",
    "Plot `y_predict` vs `X` as a line, on top of your scatterplot."
   ]
  },
  {
   "cell_type": "code",
   "execution_count": 11,
   "id": "29a281f7",
   "metadata": {},
   "outputs": [
    {
     "data": {
      "image/png": "[encoded data removed]",
      "text/plain": [
       "<Figure size 640x480 with 1 Axes>"
      ]
     },
     "metadata": {},
     "output_type": "display_data"
    }
   ],
   "source": [
    "plt.scatter(X, y)\n",
    "plt.plot(X, y_predict)\n",
    "plt.xlabel('Year')\n",
    "plt.ylabel('Honey Production')\n",
    "plt.ticklabel_format(style = 'plain')\n",
    "plt.show()\n",
    "plt.close()"
   ]
  },
  {
   "cell_type": "markdown",
   "id": "1b6e3baf",
   "metadata": {},
   "source": [
    "#### Task 11\n",
    "So, it looks like the production of honey has been in decline, according to this linear model. Let’s predict what the year `2050` may look like in terms of honey production.\n",
    "\n",
    "Our known dataset stops at the year `2013`, so let’s create a NumPy array called `X_future` that is the range from 2013 to 2050.\n",
    "\n",
    "After creating that array, we need to reshape it for scikit-learn."
   ]
  },
  {
   "cell_type": "code",
   "execution_count": 12,
   "id": "2bbfc64b",
   "metadata": {},
   "outputs": [
    {
     "data": {
      "text/plain": [
       "array([[2013],\n",
       "       [2014],\n",
       "       [2015],\n",
       "       [2016],\n",
       "       [2017],\n",
       "       [2018],\n",
       "       [2019],\n",
       "       [2020],\n",
       "       [2021],\n",
       "       [2022],\n",
       "       [2023],\n",
       "       [2024],\n",
       "       [2025],\n",
       "       [2026],\n",
       "       [2027],\n",
       "       [2028],\n",
       "       [2029],\n",
       "       [2030],\n",
       "       [2031],\n",
       "       [2032],\n",
       "       [2033],\n",
       "       [2034],\n",
       "       [2035],\n",
       "       [2036],\n",
       "       [2037],\n",
       "       [2038],\n",
       "       [2039],\n",
       "       [2040],\n",
       "       [2041],\n",
       "       [2042],\n",
       "       [2043],\n",
       "       [2044],\n",
       "       [2045],\n",
       "       [2046],\n",
       "       [2047],\n",
       "       [2048],\n",
       "       [2049],\n",
       "       [2050]])"
      ]
     },
     "execution_count": 12,
     "metadata": {},
     "output_type": "execute_result"
    }
   ],
   "source": [
    "X_future = np.array(range(2013, 2051))\n",
    "X_future = X_future.reshape(-1, 1)\n",
    "X_future"
   ]
  },
  {
   "cell_type": "markdown",
   "id": "d4a1ad60",
   "metadata": {},
   "source": [
    "#### Task 12\n",
    "Create a list called `future_predict` that is the y-values that your `regr` model would predict for the values of `X_future`."
   ]
  },
  {
   "cell_type": "code",
   "execution_count": 13,
   "id": "3cad9b43",
   "metadata": {},
   "outputs": [
    {
     "data": {
      "text/plain": [
       "array([3453763.34358495, 3365460.15443256, 3277156.96528018,\n",
       "       3188853.77612782, 3100550.58697543, 3012247.39782304,\n",
       "       2923944.20867065, 2835641.01951829, 2747337.8303659 ,\n",
       "       2659034.64121351, 2570731.45206112, 2482428.26290876,\n",
       "       2394125.07375637, 2305821.88460398, 2217518.69545159,\n",
       "       2129215.50629923, 2040912.31714684, 1952609.12799445,\n",
       "       1864305.93884209, 1776002.7496897 , 1687699.56053731,\n",
       "       1599396.37138492, 1511093.18223256, 1422789.99308017,\n",
       "       1334486.80392778, 1246183.61477539, 1157880.42562303,\n",
       "       1069577.23647064,  981274.04731825,  892970.85816586,\n",
       "        804667.6690135 ,  716364.47986111,  628061.29070872,\n",
       "        539758.10155633,  451454.91240397,  363151.72325158,\n",
       "        274848.53409919,  186545.34494683])"
      ]
     },
     "execution_count": 13,
     "metadata": {},
     "output_type": "execute_result"
    }
   ],
   "source": [
    "future_predict = regr.predict(X_future)\n",
    "future_predict"
   ]
  },
  {
   "cell_type": "markdown",
   "id": "b5d5bbf4",
   "metadata": {},
   "source": [
    "#### Task 13\n",
    "Plot `future_predict` vs `X_future` on a different plot.\n",
    "\n",
    "How much honey will be produced in the year 2050, according to this?"
   ]
  },
  {
   "cell_type": "code",
   "execution_count": 14,
   "id": "6ae94d1b",
   "metadata": {},
   "outputs": [
    {
     "data": {
      "image/png": "[encoded data removed]",
      "text/plain": [
       "<Figure size 640x480 with 1 Axes>"
      ]
     },
     "metadata": {},
     "output_type": "display_data"
    }
   ],
   "source": [
    "plt.plot(X_future, future_predict)\n",
    "plt.xlabel('Year')\n",
    "plt.ylabel('Honey Production')\n",
    "plt.ticklabel_format(style = 'plain')\n",
    "plt.show()"
   ]
  }
 ],
 "metadata": {
  "kernelspec": {
   "display_name": "Python 3 (ipykernel)",
   "language": "python",
   "name": "python3"
  },
  "language_info": {
   "codemirror_mode": {
    "name": "ipython",
    "version": 3
   },
   "file_extension": ".py",
   "mimetype": "text/x-python",
   "name": "python",
   "nbconvert_exporter": "python",
   "pygments_lexer": "ipython3",
   "version": "3.11.7"
  }
 },
 "nbformat": 4,
 "nbformat_minor": 5
}
