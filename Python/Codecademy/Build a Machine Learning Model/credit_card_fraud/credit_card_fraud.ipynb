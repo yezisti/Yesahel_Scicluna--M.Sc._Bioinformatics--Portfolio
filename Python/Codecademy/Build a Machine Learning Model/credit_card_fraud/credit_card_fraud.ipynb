{
 "cells": [
  {
   "cell_type": "markdown",
   "id": "be887d23",
   "metadata": {},
   "source": [
    "## Credit Card Fraud\n",
    "\n",
    "#### Author: Yesahel Scicluna \n",
    "\n",
    "#### Source: Codecademy. Build a Machine Learning Model. Practice Project - Predict Credit Card Fraud\n",
    "\n",
    "#### Concepts: Logistic Regression\n",
    "\n",
    "#### Required Data Files: transactions_modified.csv"
   ]
  },
  {
   "cell_type": "markdown",
   "id": "fbf24f8d",
   "metadata": {},
   "source": [
    "#### Task Description\n",
    "Credit card fraud is one of the leading causes of identify theft around the world. In 2018 alone, over $24 billion were stolen through fraudulent credit card transactions. Financial institutions employ a wide variety of different techniques to prevent fraud, one of the most common being Logistic Regression.\n",
    "\n",
    "In this project, you are a Data Scientist working for a credit card company. You have access to a dataset (based on a [synthetic financial dataset](https://www.kaggle.com/datasets/ealaxi/paysim1)), that represents a typical set of credit card transactions. Your task is to use Logistic Regression and create a predictive model to determine if a transaction is fraudulent or not."
   ]
  },
  {
   "cell_type": "code",
   "execution_count": 1,
   "id": "15b66bfe",
   "metadata": {},
   "outputs": [],
   "source": [
    "import pandas as pd\n",
    "import numpy as np\n",
    "import matplotlib.pyplot as plt\n",
    "from sklearn.linear_model import LogisticRegression\n",
    "from sklearn.model_selection import train_test_split\n",
    "from sklearn.preprocessing import StandardScaler"
   ]
  },
  {
   "cell_type": "markdown",
   "id": "2367374d",
   "metadata": {},
   "source": [
    "#### Task 1\n",
    "The file `transactions_modified.csv` contains data on 1000 simulated credit card transactions. Let’s begin by loading the data into a pandas DataFrame named `transactions`. Take a peek at the dataset using `.head()` and use `.info()` to examine how many rows there are and what datatypes they are. \n",
    "\n",
    "How many transactions are fraudulent? Print your answer."
   ]
  },
  {
   "cell_type": "code",
   "execution_count": 2,
   "id": "7bf6a1c0",
   "metadata": {
    "scrolled": true
   },
   "outputs": [
    {
     "data": {
      "text/html": [
       "<div>\n",
       "<style scoped>\n",
       "    .dataframe tbody tr th:only-of-type {\n",
       "        vertical-align: middle;\n",
       "    }\n",
       "\n",
       "    .dataframe tbody tr th {\n",
       "        vertical-align: top;\n",
       "    }\n",
       "\n",
       "    .dataframe thead th {\n",
       "        text-align: right;\n",
       "    }\n",
       "</style>\n",
       "<table border=\"1\" class=\"dataframe\">\n",
       "  <thead>\n",
       "    <tr style=\"text-align: right;\">\n",
       "      <th></th>\n",
       "      <th>step</th>\n",
       "      <th>type</th>\n",
       "      <th>amount</th>\n",
       "      <th>nameOrig</th>\n",
       "      <th>oldbalanceOrg</th>\n",
       "      <th>newbalanceOrig</th>\n",
       "      <th>nameDest</th>\n",
       "      <th>oldbalanceDest</th>\n",
       "      <th>newbalanceDest</th>\n",
       "      <th>isFraud</th>\n",
       "    </tr>\n",
       "  </thead>\n",
       "  <tbody>\n",
       "    <tr>\n",
       "      <th>0</th>\n",
       "      <td>206</td>\n",
       "      <td>CASH_OUT</td>\n",
       "      <td>62927.08</td>\n",
       "      <td>C473782114</td>\n",
       "      <td>0.00</td>\n",
       "      <td>0.00</td>\n",
       "      <td>C2096898696</td>\n",
       "      <td>649420.67</td>\n",
       "      <td>712347.75</td>\n",
       "      <td>0</td>\n",
       "    </tr>\n",
       "    <tr>\n",
       "      <th>1</th>\n",
       "      <td>380</td>\n",
       "      <td>PAYMENT</td>\n",
       "      <td>32851.57</td>\n",
       "      <td>C1915112886</td>\n",
       "      <td>0.00</td>\n",
       "      <td>0.00</td>\n",
       "      <td>M916879292</td>\n",
       "      <td>0.00</td>\n",
       "      <td>0.00</td>\n",
       "      <td>0</td>\n",
       "    </tr>\n",
       "    <tr>\n",
       "      <th>2</th>\n",
       "      <td>570</td>\n",
       "      <td>CASH_OUT</td>\n",
       "      <td>1131750.38</td>\n",
       "      <td>C1396198422</td>\n",
       "      <td>1131750.38</td>\n",
       "      <td>0.00</td>\n",
       "      <td>C1612235515</td>\n",
       "      <td>313070.53</td>\n",
       "      <td>1444820.92</td>\n",
       "      <td>1</td>\n",
       "    </tr>\n",
       "    <tr>\n",
       "      <th>3</th>\n",
       "      <td>184</td>\n",
       "      <td>CASH_OUT</td>\n",
       "      <td>60519.74</td>\n",
       "      <td>C982551468</td>\n",
       "      <td>60519.74</td>\n",
       "      <td>0.00</td>\n",
       "      <td>C1378644910</td>\n",
       "      <td>54295.32</td>\n",
       "      <td>182654.50</td>\n",
       "      <td>1</td>\n",
       "    </tr>\n",
       "    <tr>\n",
       "      <th>4</th>\n",
       "      <td>162</td>\n",
       "      <td>CASH_IN</td>\n",
       "      <td>46716.01</td>\n",
       "      <td>C1759889425</td>\n",
       "      <td>7668050.60</td>\n",
       "      <td>7714766.61</td>\n",
       "      <td>C2059152908</td>\n",
       "      <td>2125468.75</td>\n",
       "      <td>2078752.75</td>\n",
       "      <td>0</td>\n",
       "    </tr>\n",
       "    <tr>\n",
       "      <th>5</th>\n",
       "      <td>350</td>\n",
       "      <td>PAYMENT</td>\n",
       "      <td>16013.85</td>\n",
       "      <td>C2093859850</td>\n",
       "      <td>72766.00</td>\n",
       "      <td>56752.15</td>\n",
       "      <td>M1803659246</td>\n",
       "      <td>0.00</td>\n",
       "      <td>0.00</td>\n",
       "      <td>0</td>\n",
       "    </tr>\n",
       "    <tr>\n",
       "      <th>6</th>\n",
       "      <td>306</td>\n",
       "      <td>CASH_OUT</td>\n",
       "      <td>277310.34</td>\n",
       "      <td>C1480259234</td>\n",
       "      <td>0.00</td>\n",
       "      <td>0.00</td>\n",
       "      <td>C410033330</td>\n",
       "      <td>13379400.65</td>\n",
       "      <td>13656710.99</td>\n",
       "      <td>0</td>\n",
       "    </tr>\n",
       "    <tr>\n",
       "      <th>7</th>\n",
       "      <td>332</td>\n",
       "      <td>CASH_OUT</td>\n",
       "      <td>184157.68</td>\n",
       "      <td>C399464792</td>\n",
       "      <td>188588.19</td>\n",
       "      <td>4430.51</td>\n",
       "      <td>C295235726</td>\n",
       "      <td>358753.74</td>\n",
       "      <td>542911.42</td>\n",
       "      <td>0</td>\n",
       "    </tr>\n",
       "    <tr>\n",
       "      <th>8</th>\n",
       "      <td>330</td>\n",
       "      <td>CASH_IN</td>\n",
       "      <td>136804.02</td>\n",
       "      <td>C304503510</td>\n",
       "      <td>20781.00</td>\n",
       "      <td>157585.02</td>\n",
       "      <td>C1682763714</td>\n",
       "      <td>707549.54</td>\n",
       "      <td>570745.52</td>\n",
       "      <td>0</td>\n",
       "    </tr>\n",
       "    <tr>\n",
       "      <th>9</th>\n",
       "      <td>259</td>\n",
       "      <td>CASH_IN</td>\n",
       "      <td>60609.99</td>\n",
       "      <td>C2089244493</td>\n",
       "      <td>2907876.74</td>\n",
       "      <td>2968486.73</td>\n",
       "      <td>C277506714</td>\n",
       "      <td>823473.00</td>\n",
       "      <td>762863.01</td>\n",
       "      <td>0</td>\n",
       "    </tr>\n",
       "  </tbody>\n",
       "</table>\n",
       "</div>"
      ],
      "text/plain": [
       "   step      type      amount     nameOrig  oldbalanceOrg  newbalanceOrig  \\\n",
       "0   206  CASH_OUT    62927.08   C473782114           0.00            0.00   \n",
       "1   380   PAYMENT    32851.57  C1915112886           0.00            0.00   \n",
       "2   570  CASH_OUT  1131750.38  C1396198422     1131750.38            0.00   \n",
       "3   184  CASH_OUT    60519.74   C982551468       60519.74            0.00   \n",
       "4   162   CASH_IN    46716.01  C1759889425     7668050.60      7714766.61   \n",
       "5   350   PAYMENT    16013.85  C2093859850       72766.00        56752.15   \n",
       "6   306  CASH_OUT   277310.34  C1480259234           0.00            0.00   \n",
       "7   332  CASH_OUT   184157.68   C399464792      188588.19         4430.51   \n",
       "8   330   CASH_IN   136804.02   C304503510       20781.00       157585.02   \n",
       "9   259   CASH_IN    60609.99  C2089244493     2907876.74      2968486.73   \n",
       "\n",
       "      nameDest  oldbalanceDest  newbalanceDest  isFraud  \n",
       "0  C2096898696       649420.67       712347.75        0  \n",
       "1   M916879292            0.00            0.00        0  \n",
       "2  C1612235515       313070.53      1444820.92        1  \n",
       "3  C1378644910        54295.32       182654.50        1  \n",
       "4  C2059152908      2125468.75      2078752.75        0  \n",
       "5  M1803659246            0.00            0.00        0  \n",
       "6   C410033330     13379400.65     13656710.99        0  \n",
       "7   C295235726       358753.74       542911.42        0  \n",
       "8  C1682763714       707549.54       570745.52        0  \n",
       "9   C277506714       823473.00       762863.01        0  "
      ]
     },
     "execution_count": 2,
     "metadata": {},
     "output_type": "execute_result"
    }
   ],
   "source": [
    "transactions = pd.read_csv(r'https://raw.githubusercontent.com/yezisti/Yesahel_Scicluna--M.Sc._Bioinformatics--Portfolio/main/Python/Codecademy/Build%20a%20Machine%20Learning%20Model/credit_card_fraud/transactions_modified.csv')\n",
    "transactions.head(10)"
   ]
  },
  {
   "cell_type": "code",
   "execution_count": 3,
   "id": "1931ad42",
   "metadata": {
    "scrolled": true
   },
   "outputs": [
    {
     "name": "stdout",
     "output_type": "stream",
     "text": [
      "<class 'pandas.core.frame.DataFrame'>\n",
      "RangeIndex: 1000 entries, 0 to 999\n",
      "Data columns (total 10 columns):\n",
      " #   Column          Non-Null Count  Dtype  \n",
      "---  ------          --------------  -----  \n",
      " 0   step            1000 non-null   int64  \n",
      " 1   type            1000 non-null   object \n",
      " 2   amount          1000 non-null   float64\n",
      " 3   nameOrig        1000 non-null   object \n",
      " 4   oldbalanceOrg   1000 non-null   float64\n",
      " 5   newbalanceOrig  1000 non-null   float64\n",
      " 6   nameDest        1000 non-null   object \n",
      " 7   oldbalanceDest  1000 non-null   float64\n",
      " 8   newbalanceDest  1000 non-null   float64\n",
      " 9   isFraud         1000 non-null   int64  \n",
      "dtypes: float64(5), int64(2), object(3)\n",
      "memory usage: 78.3+ KB\n"
     ]
    }
   ],
   "source": [
    "transactions.info()"
   ]
  },
  {
   "cell_type": "code",
   "execution_count": 4,
   "id": "f626103a",
   "metadata": {},
   "outputs": [
    {
     "name": "stdout",
     "output_type": "stream",
     "text": [
      "fraudulent transactions: 282\n"
     ]
    }
   ],
   "source": [
    "fraud_count = transactions[transactions.isFraud == 1].shape[0]\n",
    "print('fraudulent transactions:', fraud_count)"
   ]
  },
  {
   "cell_type": "markdown",
   "id": "b0a991a1",
   "metadata": {},
   "source": [
    "#### Task 2\n",
    "Looking at the dataset, combined with our knowledge of credit card transactions in general, we can see that there are a few interesting columns to look at. We know that the `amount` of a given transaction is going to be important. Calculate summary statistics for this column. What does the distribution look like?"
   ]
  },
  {
   "cell_type": "code",
   "execution_count": 5,
   "id": "322d73bc",
   "metadata": {
    "scrolled": true
   },
   "outputs": [
    {
     "data": {
      "text/plain": [
       "count    1.000000e+03\n",
       "mean     5.373080e+05\n",
       "std      1.423692e+06\n",
       "min      0.000000e+00\n",
       "25%      2.933705e+04\n",
       "50%      1.265305e+05\n",
       "75%      3.010378e+05\n",
       "max      1.000000e+07\n",
       "Name: amount, dtype: float64"
      ]
     },
     "execution_count": 5,
     "metadata": {},
     "output_type": "execute_result"
    }
   ],
   "source": [
    "transactions.amount.describe()"
   ]
  },
  {
   "cell_type": "code",
   "execution_count": 6,
   "id": "fd8a17b7",
   "metadata": {},
   "outputs": [
    {
     "data": {
      "text/plain": [
       "array([[<Axes: title={'center': 'amount'}>]], dtype=object)"
      ]
     },
     "execution_count": 6,
     "metadata": {},
     "output_type": "execute_result"
    },
    {
     "data": {
      "image/png": "[encoded data removed]",
      "text/plain": [
       "<Figure size 640x480 with 1 Axes>"
      ]
     },
     "metadata": {},
     "output_type": "display_data"
    }
   ],
   "source": [
    "transactions.hist('amount')"
   ]
  },
  {
   "cell_type": "markdown",
   "id": "ef8f4f91",
   "metadata": {},
   "source": [
    "#### Task 3\n",
    "We have a lot of information about the `type` of transaction we are looking at. Let’s create a new column called `isPayment` that assigns a `1` when `type` is “PAYMENT” or “DEBIT”, and a `0` otherwise."
   ]
  },
  {
   "cell_type": "code",
   "execution_count": 7,
   "id": "e3ded0ce",
   "metadata": {},
   "outputs": [
    {
     "data": {
      "text/html": [
       "<div>\n",
       "<style scoped>\n",
       "    .dataframe tbody tr th:only-of-type {\n",
       "        vertical-align: middle;\n",
       "    }\n",
       "\n",
       "    .dataframe tbody tr th {\n",
       "        vertical-align: top;\n",
       "    }\n",
       "\n",
       "    .dataframe thead th {\n",
       "        text-align: right;\n",
       "    }\n",
       "</style>\n",
       "<table border=\"1\" class=\"dataframe\">\n",
       "  <thead>\n",
       "    <tr style=\"text-align: right;\">\n",
       "      <th></th>\n",
       "      <th>step</th>\n",
       "      <th>type</th>\n",
       "      <th>amount</th>\n",
       "      <th>nameOrig</th>\n",
       "      <th>oldbalanceOrg</th>\n",
       "      <th>newbalanceOrig</th>\n",
       "      <th>nameDest</th>\n",
       "      <th>oldbalanceDest</th>\n",
       "      <th>newbalanceDest</th>\n",
       "      <th>isFraud</th>\n",
       "      <th>isPayment</th>\n",
       "    </tr>\n",
       "  </thead>\n",
       "  <tbody>\n",
       "    <tr>\n",
       "      <th>0</th>\n",
       "      <td>206</td>\n",
       "      <td>CASH_OUT</td>\n",
       "      <td>62927.08</td>\n",
       "      <td>C473782114</td>\n",
       "      <td>0.00</td>\n",
       "      <td>0.00</td>\n",
       "      <td>C2096898696</td>\n",
       "      <td>649420.67</td>\n",
       "      <td>712347.75</td>\n",
       "      <td>0</td>\n",
       "      <td>0</td>\n",
       "    </tr>\n",
       "    <tr>\n",
       "      <th>1</th>\n",
       "      <td>380</td>\n",
       "      <td>PAYMENT</td>\n",
       "      <td>32851.57</td>\n",
       "      <td>C1915112886</td>\n",
       "      <td>0.00</td>\n",
       "      <td>0.00</td>\n",
       "      <td>M916879292</td>\n",
       "      <td>0.00</td>\n",
       "      <td>0.00</td>\n",
       "      <td>0</td>\n",
       "      <td>1</td>\n",
       "    </tr>\n",
       "    <tr>\n",
       "      <th>2</th>\n",
       "      <td>570</td>\n",
       "      <td>CASH_OUT</td>\n",
       "      <td>1131750.38</td>\n",
       "      <td>C1396198422</td>\n",
       "      <td>1131750.38</td>\n",
       "      <td>0.00</td>\n",
       "      <td>C1612235515</td>\n",
       "      <td>313070.53</td>\n",
       "      <td>1444820.92</td>\n",
       "      <td>1</td>\n",
       "      <td>0</td>\n",
       "    </tr>\n",
       "    <tr>\n",
       "      <th>3</th>\n",
       "      <td>184</td>\n",
       "      <td>CASH_OUT</td>\n",
       "      <td>60519.74</td>\n",
       "      <td>C982551468</td>\n",
       "      <td>60519.74</td>\n",
       "      <td>0.00</td>\n",
       "      <td>C1378644910</td>\n",
       "      <td>54295.32</td>\n",
       "      <td>182654.50</td>\n",
       "      <td>1</td>\n",
       "      <td>0</td>\n",
       "    </tr>\n",
       "    <tr>\n",
       "      <th>4</th>\n",
       "      <td>162</td>\n",
       "      <td>CASH_IN</td>\n",
       "      <td>46716.01</td>\n",
       "      <td>C1759889425</td>\n",
       "      <td>7668050.60</td>\n",
       "      <td>7714766.61</td>\n",
       "      <td>C2059152908</td>\n",
       "      <td>2125468.75</td>\n",
       "      <td>2078752.75</td>\n",
       "      <td>0</td>\n",
       "      <td>0</td>\n",
       "    </tr>\n",
       "    <tr>\n",
       "      <th>5</th>\n",
       "      <td>350</td>\n",
       "      <td>PAYMENT</td>\n",
       "      <td>16013.85</td>\n",
       "      <td>C2093859850</td>\n",
       "      <td>72766.00</td>\n",
       "      <td>56752.15</td>\n",
       "      <td>M1803659246</td>\n",
       "      <td>0.00</td>\n",
       "      <td>0.00</td>\n",
       "      <td>0</td>\n",
       "      <td>1</td>\n",
       "    </tr>\n",
       "    <tr>\n",
       "      <th>6</th>\n",
       "      <td>306</td>\n",
       "      <td>CASH_OUT</td>\n",
       "      <td>277310.34</td>\n",
       "      <td>C1480259234</td>\n",
       "      <td>0.00</td>\n",
       "      <td>0.00</td>\n",
       "      <td>C410033330</td>\n",
       "      <td>13379400.65</td>\n",
       "      <td>13656710.99</td>\n",
       "      <td>0</td>\n",
       "      <td>0</td>\n",
       "    </tr>\n",
       "    <tr>\n",
       "      <th>7</th>\n",
       "      <td>332</td>\n",
       "      <td>CASH_OUT</td>\n",
       "      <td>184157.68</td>\n",
       "      <td>C399464792</td>\n",
       "      <td>188588.19</td>\n",
       "      <td>4430.51</td>\n",
       "      <td>C295235726</td>\n",
       "      <td>358753.74</td>\n",
       "      <td>542911.42</td>\n",
       "      <td>0</td>\n",
       "      <td>0</td>\n",
       "    </tr>\n",
       "    <tr>\n",
       "      <th>8</th>\n",
       "      <td>330</td>\n",
       "      <td>CASH_IN</td>\n",
       "      <td>136804.02</td>\n",
       "      <td>C304503510</td>\n",
       "      <td>20781.00</td>\n",
       "      <td>157585.02</td>\n",
       "      <td>C1682763714</td>\n",
       "      <td>707549.54</td>\n",
       "      <td>570745.52</td>\n",
       "      <td>0</td>\n",
       "      <td>0</td>\n",
       "    </tr>\n",
       "    <tr>\n",
       "      <th>9</th>\n",
       "      <td>259</td>\n",
       "      <td>CASH_IN</td>\n",
       "      <td>60609.99</td>\n",
       "      <td>C2089244493</td>\n",
       "      <td>2907876.74</td>\n",
       "      <td>2968486.73</td>\n",
       "      <td>C277506714</td>\n",
       "      <td>823473.00</td>\n",
       "      <td>762863.01</td>\n",
       "      <td>0</td>\n",
       "      <td>0</td>\n",
       "    </tr>\n",
       "  </tbody>\n",
       "</table>\n",
       "</div>"
      ],
      "text/plain": [
       "   step      type      amount     nameOrig  oldbalanceOrg  newbalanceOrig  \\\n",
       "0   206  CASH_OUT    62927.08   C473782114           0.00            0.00   \n",
       "1   380   PAYMENT    32851.57  C1915112886           0.00            0.00   \n",
       "2   570  CASH_OUT  1131750.38  C1396198422     1131750.38            0.00   \n",
       "3   184  CASH_OUT    60519.74   C982551468       60519.74            0.00   \n",
       "4   162   CASH_IN    46716.01  C1759889425     7668050.60      7714766.61   \n",
       "5   350   PAYMENT    16013.85  C2093859850       72766.00        56752.15   \n",
       "6   306  CASH_OUT   277310.34  C1480259234           0.00            0.00   \n",
       "7   332  CASH_OUT   184157.68   C399464792      188588.19         4430.51   \n",
       "8   330   CASH_IN   136804.02   C304503510       20781.00       157585.02   \n",
       "9   259   CASH_IN    60609.99  C2089244493     2907876.74      2968486.73   \n",
       "\n",
       "      nameDest  oldbalanceDest  newbalanceDest  isFraud  isPayment  \n",
       "0  C2096898696       649420.67       712347.75        0          0  \n",
       "1   M916879292            0.00            0.00        0          1  \n",
       "2  C1612235515       313070.53      1444820.92        1          0  \n",
       "3  C1378644910        54295.32       182654.50        1          0  \n",
       "4  C2059152908      2125468.75      2078752.75        0          0  \n",
       "5  M1803659246            0.00            0.00        0          1  \n",
       "6   C410033330     13379400.65     13656710.99        0          0  \n",
       "7   C295235726       358753.74       542911.42        0          0  \n",
       "8  C1682763714       707549.54       570745.52        0          0  \n",
       "9   C277506714       823473.00       762863.01        0          0  "
      ]
     },
     "execution_count": 7,
     "metadata": {},
     "output_type": "execute_result"
    }
   ],
   "source": [
    "transactions['isPayment'] = transactions.type.apply(lambda x: 1 if x in ('PAYMENT', 'DEBIT') else 0)\n",
    "transactions.head(10)"
   ]
  },
  {
   "cell_type": "markdown",
   "id": "6a79a418",
   "metadata": {},
   "source": [
    "#### Task 4\n",
    "Similarly, create a column called `isMovement`, which will capture if money moved out of the origin account. This column will have a value of ``1 when type is either `“CASH_OUT”` or `“TRANSFER”`, and a `0` otherwise."
   ]
  },
  {
   "cell_type": "code",
   "execution_count": 8,
   "id": "36169a54",
   "metadata": {},
   "outputs": [
    {
     "data": {
      "text/html": [
       "<div>\n",
       "<style scoped>\n",
       "    .dataframe tbody tr th:only-of-type {\n",
       "        vertical-align: middle;\n",
       "    }\n",
       "\n",
       "    .dataframe tbody tr th {\n",
       "        vertical-align: top;\n",
       "    }\n",
       "\n",
       "    .dataframe thead th {\n",
       "        text-align: right;\n",
       "    }\n",
       "</style>\n",
       "<table border=\"1\" class=\"dataframe\">\n",
       "  <thead>\n",
       "    <tr style=\"text-align: right;\">\n",
       "      <th></th>\n",
       "      <th>step</th>\n",
       "      <th>type</th>\n",
       "      <th>amount</th>\n",
       "      <th>nameOrig</th>\n",
       "      <th>oldbalanceOrg</th>\n",
       "      <th>newbalanceOrig</th>\n",
       "      <th>nameDest</th>\n",
       "      <th>oldbalanceDest</th>\n",
       "      <th>newbalanceDest</th>\n",
       "      <th>isFraud</th>\n",
       "      <th>isPayment</th>\n",
       "      <th>isMovement</th>\n",
       "    </tr>\n",
       "  </thead>\n",
       "  <tbody>\n",
       "    <tr>\n",
       "      <th>0</th>\n",
       "      <td>206</td>\n",
       "      <td>CASH_OUT</td>\n",
       "      <td>62927.08</td>\n",
       "      <td>C473782114</td>\n",
       "      <td>0.00</td>\n",
       "      <td>0.00</td>\n",
       "      <td>C2096898696</td>\n",
       "      <td>649420.67</td>\n",
       "      <td>712347.75</td>\n",
       "      <td>0</td>\n",
       "      <td>0</td>\n",
       "      <td>1</td>\n",
       "    </tr>\n",
       "    <tr>\n",
       "      <th>1</th>\n",
       "      <td>380</td>\n",
       "      <td>PAYMENT</td>\n",
       "      <td>32851.57</td>\n",
       "      <td>C1915112886</td>\n",
       "      <td>0.00</td>\n",
       "      <td>0.00</td>\n",
       "      <td>M916879292</td>\n",
       "      <td>0.00</td>\n",
       "      <td>0.00</td>\n",
       "      <td>0</td>\n",
       "      <td>1</td>\n",
       "      <td>0</td>\n",
       "    </tr>\n",
       "    <tr>\n",
       "      <th>2</th>\n",
       "      <td>570</td>\n",
       "      <td>CASH_OUT</td>\n",
       "      <td>1131750.38</td>\n",
       "      <td>C1396198422</td>\n",
       "      <td>1131750.38</td>\n",
       "      <td>0.00</td>\n",
       "      <td>C1612235515</td>\n",
       "      <td>313070.53</td>\n",
       "      <td>1444820.92</td>\n",
       "      <td>1</td>\n",
       "      <td>0</td>\n",
       "      <td>1</td>\n",
       "    </tr>\n",
       "    <tr>\n",
       "      <th>3</th>\n",
       "      <td>184</td>\n",
       "      <td>CASH_OUT</td>\n",
       "      <td>60519.74</td>\n",
       "      <td>C982551468</td>\n",
       "      <td>60519.74</td>\n",
       "      <td>0.00</td>\n",
       "      <td>C1378644910</td>\n",
       "      <td>54295.32</td>\n",
       "      <td>182654.50</td>\n",
       "      <td>1</td>\n",
       "      <td>0</td>\n",
       "      <td>1</td>\n",
       "    </tr>\n",
       "    <tr>\n",
       "      <th>4</th>\n",
       "      <td>162</td>\n",
       "      <td>CASH_IN</td>\n",
       "      <td>46716.01</td>\n",
       "      <td>C1759889425</td>\n",
       "      <td>7668050.60</td>\n",
       "      <td>7714766.61</td>\n",
       "      <td>C2059152908</td>\n",
       "      <td>2125468.75</td>\n",
       "      <td>2078752.75</td>\n",
       "      <td>0</td>\n",
       "      <td>0</td>\n",
       "      <td>0</td>\n",
       "    </tr>\n",
       "    <tr>\n",
       "      <th>5</th>\n",
       "      <td>350</td>\n",
       "      <td>PAYMENT</td>\n",
       "      <td>16013.85</td>\n",
       "      <td>C2093859850</td>\n",
       "      <td>72766.00</td>\n",
       "      <td>56752.15</td>\n",
       "      <td>M1803659246</td>\n",
       "      <td>0.00</td>\n",
       "      <td>0.00</td>\n",
       "      <td>0</td>\n",
       "      <td>1</td>\n",
       "      <td>0</td>\n",
       "    </tr>\n",
       "    <tr>\n",
       "      <th>6</th>\n",
       "      <td>306</td>\n",
       "      <td>CASH_OUT</td>\n",
       "      <td>277310.34</td>\n",
       "      <td>C1480259234</td>\n",
       "      <td>0.00</td>\n",
       "      <td>0.00</td>\n",
       "      <td>C410033330</td>\n",
       "      <td>13379400.65</td>\n",
       "      <td>13656710.99</td>\n",
       "      <td>0</td>\n",
       "      <td>0</td>\n",
       "      <td>1</td>\n",
       "    </tr>\n",
       "    <tr>\n",
       "      <th>7</th>\n",
       "      <td>332</td>\n",
       "      <td>CASH_OUT</td>\n",
       "      <td>184157.68</td>\n",
       "      <td>C399464792</td>\n",
       "      <td>188588.19</td>\n",
       "      <td>4430.51</td>\n",
       "      <td>C295235726</td>\n",
       "      <td>358753.74</td>\n",
       "      <td>542911.42</td>\n",
       "      <td>0</td>\n",
       "      <td>0</td>\n",
       "      <td>1</td>\n",
       "    </tr>\n",
       "    <tr>\n",
       "      <th>8</th>\n",
       "      <td>330</td>\n",
       "      <td>CASH_IN</td>\n",
       "      <td>136804.02</td>\n",
       "      <td>C304503510</td>\n",
       "      <td>20781.00</td>\n",
       "      <td>157585.02</td>\n",
       "      <td>C1682763714</td>\n",
       "      <td>707549.54</td>\n",
       "      <td>570745.52</td>\n",
       "      <td>0</td>\n",
       "      <td>0</td>\n",
       "      <td>0</td>\n",
       "    </tr>\n",
       "    <tr>\n",
       "      <th>9</th>\n",
       "      <td>259</td>\n",
       "      <td>CASH_IN</td>\n",
       "      <td>60609.99</td>\n",
       "      <td>C2089244493</td>\n",
       "      <td>2907876.74</td>\n",
       "      <td>2968486.73</td>\n",
       "      <td>C277506714</td>\n",
       "      <td>823473.00</td>\n",
       "      <td>762863.01</td>\n",
       "      <td>0</td>\n",
       "      <td>0</td>\n",
       "      <td>0</td>\n",
       "    </tr>\n",
       "  </tbody>\n",
       "</table>\n",
       "</div>"
      ],
      "text/plain": [
       "   step      type      amount     nameOrig  oldbalanceOrg  newbalanceOrig  \\\n",
       "0   206  CASH_OUT    62927.08   C473782114           0.00            0.00   \n",
       "1   380   PAYMENT    32851.57  C1915112886           0.00            0.00   \n",
       "2   570  CASH_OUT  1131750.38  C1396198422     1131750.38            0.00   \n",
       "3   184  CASH_OUT    60519.74   C982551468       60519.74            0.00   \n",
       "4   162   CASH_IN    46716.01  C1759889425     7668050.60      7714766.61   \n",
       "5   350   PAYMENT    16013.85  C2093859850       72766.00        56752.15   \n",
       "6   306  CASH_OUT   277310.34  C1480259234           0.00            0.00   \n",
       "7   332  CASH_OUT   184157.68   C399464792      188588.19         4430.51   \n",
       "8   330   CASH_IN   136804.02   C304503510       20781.00       157585.02   \n",
       "9   259   CASH_IN    60609.99  C2089244493     2907876.74      2968486.73   \n",
       "\n",
       "      nameDest  oldbalanceDest  newbalanceDest  isFraud  isPayment  isMovement  \n",
       "0  C2096898696       649420.67       712347.75        0          0           1  \n",
       "1   M916879292            0.00            0.00        0          1           0  \n",
       "2  C1612235515       313070.53      1444820.92        1          0           1  \n",
       "3  C1378644910        54295.32       182654.50        1          0           1  \n",
       "4  C2059152908      2125468.75      2078752.75        0          0           0  \n",
       "5  M1803659246            0.00            0.00        0          1           0  \n",
       "6   C410033330     13379400.65     13656710.99        0          0           1  \n",
       "7   C295235726       358753.74       542911.42        0          0           1  \n",
       "8  C1682763714       707549.54       570745.52        0          0           0  \n",
       "9   C277506714       823473.00       762863.01        0          0           0  "
      ]
     },
     "execution_count": 8,
     "metadata": {},
     "output_type": "execute_result"
    }
   ],
   "source": [
    "transactions['isMovement'] = transactions.type.apply(lambda x: 1 if x in ('CASH_OUT', 'TRANSFER') else 0)\n",
    "transactions.head(10)"
   ]
  },
  {
   "cell_type": "markdown",
   "id": "0c8cab7a",
   "metadata": {},
   "source": [
    "#### Task 5\n",
    "With financial fraud, another key factor to investigate would be the difference in value between the origin and destination account. Our theory, in this case, being that destination accounts with a significantly different value could be suspect of fraud. Let’s create a column called `accountDiff` with the absolute difference of the `oldbalanceOrg` and `oldbalanceDest` columns."
   ]
  },
  {
   "cell_type": "code",
   "execution_count": 9,
   "id": "adf612ae",
   "metadata": {},
   "outputs": [
    {
     "data": {
      "text/html": [
       "<div>\n",
       "<style scoped>\n",
       "    .dataframe tbody tr th:only-of-type {\n",
       "        vertical-align: middle;\n",
       "    }\n",
       "\n",
       "    .dataframe tbody tr th {\n",
       "        vertical-align: top;\n",
       "    }\n",
       "\n",
       "    .dataframe thead th {\n",
       "        text-align: right;\n",
       "    }\n",
       "</style>\n",
       "<table border=\"1\" class=\"dataframe\">\n",
       "  <thead>\n",
       "    <tr style=\"text-align: right;\">\n",
       "      <th></th>\n",
       "      <th>step</th>\n",
       "      <th>type</th>\n",
       "      <th>amount</th>\n",
       "      <th>nameOrig</th>\n",
       "      <th>oldbalanceOrg</th>\n",
       "      <th>newbalanceOrig</th>\n",
       "      <th>nameDest</th>\n",
       "      <th>oldbalanceDest</th>\n",
       "      <th>newbalanceDest</th>\n",
       "      <th>isFraud</th>\n",
       "      <th>isPayment</th>\n",
       "      <th>isMovement</th>\n",
       "      <th>accountDiff</th>\n",
       "    </tr>\n",
       "  </thead>\n",
       "  <tbody>\n",
       "    <tr>\n",
       "      <th>0</th>\n",
       "      <td>206</td>\n",
       "      <td>CASH_OUT</td>\n",
       "      <td>62927.08</td>\n",
       "      <td>C473782114</td>\n",
       "      <td>0.00</td>\n",
       "      <td>0.00</td>\n",
       "      <td>C2096898696</td>\n",
       "      <td>649420.67</td>\n",
       "      <td>712347.75</td>\n",
       "      <td>0</td>\n",
       "      <td>0</td>\n",
       "      <td>1</td>\n",
       "      <td>649420.67</td>\n",
       "    </tr>\n",
       "    <tr>\n",
       "      <th>1</th>\n",
       "      <td>380</td>\n",
       "      <td>PAYMENT</td>\n",
       "      <td>32851.57</td>\n",
       "      <td>C1915112886</td>\n",
       "      <td>0.00</td>\n",
       "      <td>0.00</td>\n",
       "      <td>M916879292</td>\n",
       "      <td>0.00</td>\n",
       "      <td>0.00</td>\n",
       "      <td>0</td>\n",
       "      <td>1</td>\n",
       "      <td>0</td>\n",
       "      <td>0.00</td>\n",
       "    </tr>\n",
       "    <tr>\n",
       "      <th>2</th>\n",
       "      <td>570</td>\n",
       "      <td>CASH_OUT</td>\n",
       "      <td>1131750.38</td>\n",
       "      <td>C1396198422</td>\n",
       "      <td>1131750.38</td>\n",
       "      <td>0.00</td>\n",
       "      <td>C1612235515</td>\n",
       "      <td>313070.53</td>\n",
       "      <td>1444820.92</td>\n",
       "      <td>1</td>\n",
       "      <td>0</td>\n",
       "      <td>1</td>\n",
       "      <td>-818679.85</td>\n",
       "    </tr>\n",
       "    <tr>\n",
       "      <th>3</th>\n",
       "      <td>184</td>\n",
       "      <td>CASH_OUT</td>\n",
       "      <td>60519.74</td>\n",
       "      <td>C982551468</td>\n",
       "      <td>60519.74</td>\n",
       "      <td>0.00</td>\n",
       "      <td>C1378644910</td>\n",
       "      <td>54295.32</td>\n",
       "      <td>182654.50</td>\n",
       "      <td>1</td>\n",
       "      <td>0</td>\n",
       "      <td>1</td>\n",
       "      <td>-6224.42</td>\n",
       "    </tr>\n",
       "    <tr>\n",
       "      <th>4</th>\n",
       "      <td>162</td>\n",
       "      <td>CASH_IN</td>\n",
       "      <td>46716.01</td>\n",
       "      <td>C1759889425</td>\n",
       "      <td>7668050.60</td>\n",
       "      <td>7714766.61</td>\n",
       "      <td>C2059152908</td>\n",
       "      <td>2125468.75</td>\n",
       "      <td>2078752.75</td>\n",
       "      <td>0</td>\n",
       "      <td>0</td>\n",
       "      <td>0</td>\n",
       "      <td>-5542581.85</td>\n",
       "    </tr>\n",
       "    <tr>\n",
       "      <th>5</th>\n",
       "      <td>350</td>\n",
       "      <td>PAYMENT</td>\n",
       "      <td>16013.85</td>\n",
       "      <td>C2093859850</td>\n",
       "      <td>72766.00</td>\n",
       "      <td>56752.15</td>\n",
       "      <td>M1803659246</td>\n",
       "      <td>0.00</td>\n",
       "      <td>0.00</td>\n",
       "      <td>0</td>\n",
       "      <td>1</td>\n",
       "      <td>0</td>\n",
       "      <td>-72766.00</td>\n",
       "    </tr>\n",
       "    <tr>\n",
       "      <th>6</th>\n",
       "      <td>306</td>\n",
       "      <td>CASH_OUT</td>\n",
       "      <td>277310.34</td>\n",
       "      <td>C1480259234</td>\n",
       "      <td>0.00</td>\n",
       "      <td>0.00</td>\n",
       "      <td>C410033330</td>\n",
       "      <td>13379400.65</td>\n",
       "      <td>13656710.99</td>\n",
       "      <td>0</td>\n",
       "      <td>0</td>\n",
       "      <td>1</td>\n",
       "      <td>13379400.65</td>\n",
       "    </tr>\n",
       "    <tr>\n",
       "      <th>7</th>\n",
       "      <td>332</td>\n",
       "      <td>CASH_OUT</td>\n",
       "      <td>184157.68</td>\n",
       "      <td>C399464792</td>\n",
       "      <td>188588.19</td>\n",
       "      <td>4430.51</td>\n",
       "      <td>C295235726</td>\n",
       "      <td>358753.74</td>\n",
       "      <td>542911.42</td>\n",
       "      <td>0</td>\n",
       "      <td>0</td>\n",
       "      <td>1</td>\n",
       "      <td>170165.55</td>\n",
       "    </tr>\n",
       "    <tr>\n",
       "      <th>8</th>\n",
       "      <td>330</td>\n",
       "      <td>CASH_IN</td>\n",
       "      <td>136804.02</td>\n",
       "      <td>C304503510</td>\n",
       "      <td>20781.00</td>\n",
       "      <td>157585.02</td>\n",
       "      <td>C1682763714</td>\n",
       "      <td>707549.54</td>\n",
       "      <td>570745.52</td>\n",
       "      <td>0</td>\n",
       "      <td>0</td>\n",
       "      <td>0</td>\n",
       "      <td>686768.54</td>\n",
       "    </tr>\n",
       "    <tr>\n",
       "      <th>9</th>\n",
       "      <td>259</td>\n",
       "      <td>CASH_IN</td>\n",
       "      <td>60609.99</td>\n",
       "      <td>C2089244493</td>\n",
       "      <td>2907876.74</td>\n",
       "      <td>2968486.73</td>\n",
       "      <td>C277506714</td>\n",
       "      <td>823473.00</td>\n",
       "      <td>762863.01</td>\n",
       "      <td>0</td>\n",
       "      <td>0</td>\n",
       "      <td>0</td>\n",
       "      <td>-2084403.74</td>\n",
       "    </tr>\n",
       "  </tbody>\n",
       "</table>\n",
       "</div>"
      ],
      "text/plain": [
       "   step      type      amount     nameOrig  oldbalanceOrg  newbalanceOrig  \\\n",
       "0   206  CASH_OUT    62927.08   C473782114           0.00            0.00   \n",
       "1   380   PAYMENT    32851.57  C1915112886           0.00            0.00   \n",
       "2   570  CASH_OUT  1131750.38  C1396198422     1131750.38            0.00   \n",
       "3   184  CASH_OUT    60519.74   C982551468       60519.74            0.00   \n",
       "4   162   CASH_IN    46716.01  C1759889425     7668050.60      7714766.61   \n",
       "5   350   PAYMENT    16013.85  C2093859850       72766.00        56752.15   \n",
       "6   306  CASH_OUT   277310.34  C1480259234           0.00            0.00   \n",
       "7   332  CASH_OUT   184157.68   C399464792      188588.19         4430.51   \n",
       "8   330   CASH_IN   136804.02   C304503510       20781.00       157585.02   \n",
       "9   259   CASH_IN    60609.99  C2089244493     2907876.74      2968486.73   \n",
       "\n",
       "      nameDest  oldbalanceDest  newbalanceDest  isFraud  isPayment  \\\n",
       "0  C2096898696       649420.67       712347.75        0          0   \n",
       "1   M916879292            0.00            0.00        0          1   \n",
       "2  C1612235515       313070.53      1444820.92        1          0   \n",
       "3  C1378644910        54295.32       182654.50        1          0   \n",
       "4  C2059152908      2125468.75      2078752.75        0          0   \n",
       "5  M1803659246            0.00            0.00        0          1   \n",
       "6   C410033330     13379400.65     13656710.99        0          0   \n",
       "7   C295235726       358753.74       542911.42        0          0   \n",
       "8  C1682763714       707549.54       570745.52        0          0   \n",
       "9   C277506714       823473.00       762863.01        0          0   \n",
       "\n",
       "   isMovement  accountDiff  \n",
       "0           1    649420.67  \n",
       "1           0         0.00  \n",
       "2           1   -818679.85  \n",
       "3           1     -6224.42  \n",
       "4           0  -5542581.85  \n",
       "5           0    -72766.00  \n",
       "6           1  13379400.65  \n",
       "7           1    170165.55  \n",
       "8           0    686768.54  \n",
       "9           0  -2084403.74  "
      ]
     },
     "execution_count": 9,
     "metadata": {},
     "output_type": "execute_result"
    }
   ],
   "source": [
    "transactions['accountDiff'] = transactions.oldbalanceDest - transactions.oldbalanceOrg \n",
    "transactions.head(10)"
   ]
  },
  {
   "cell_type": "markdown",
   "id": "0f06746e",
   "metadata": {},
   "source": [
    "#### Task 6\n",
    "Before we can start training our model, we need to define our features and label columns. Our label column in this dataset is the `isFraud` field. Create a variable called `features` which will be an array consisting of the following fields:\n",
    "- `amount`\n",
    "- `isPayment`\n",
    "- `isMovement`\n",
    "- `accountDiff`\n",
    "\n",
    "Create a variable called `label` with the column `isFraud`."
   ]
  },
  {
   "cell_type": "code",
   "execution_count": 10,
   "id": "4c042fb4",
   "metadata": {},
   "outputs": [
    {
     "data": {
      "text/plain": [
       "array([[ 6.29270800e+04,  0.00000000e+00,  1.00000000e+00,\n",
       "         6.49420670e+05],\n",
       "       [ 3.28515700e+04,  1.00000000e+00,  0.00000000e+00,\n",
       "         0.00000000e+00],\n",
       "       [ 1.13175038e+06,  0.00000000e+00,  1.00000000e+00,\n",
       "        -8.18679850e+05],\n",
       "       ...,\n",
       "       [ 6.22235320e+05,  0.00000000e+00,  1.00000000e+00,\n",
       "         2.75573364e+06],\n",
       "       [ 1.19604130e+05,  0.00000000e+00,  1.00000000e+00,\n",
       "         2.24271092e+07],\n",
       "       [ 1.52331260e+05,  0.00000000e+00,  1.00000000e+00,\n",
       "        -1.52331260e+05]])"
      ]
     },
     "execution_count": 10,
     "metadata": {},
     "output_type": "execute_result"
    }
   ],
   "source": [
    "features = transactions[['amount', 'isPayment', 'isMovement', 'accountDiff']].to_numpy()\n",
    "features"
   ]
  },
  {
   "cell_type": "code",
   "execution_count": 11,
   "id": "49a76a2e",
   "metadata": {},
   "outputs": [
    {
     "data": {
      "text/plain": [
       "array([0, 0, 1, 1, 0, 0, 0, 0, 0, 0, 0, 0, 0, 0, 0, 0, 0, 0, 1, 0, 0, 0,\n",
       "       0, 0, 0, 0, 0, 0, 1, 1, 0, 0, 0, 0, 1, 1, 0, 0, 0, 1, 0, 1, 1, 1,\n",
       "       0, 0, 1, 1, 1, 0, 0, 0, 0, 0, 0, 1, 0, 0, 0, 1, 0, 0, 1, 0, 1, 0,\n",
       "       0, 0, 0, 1, 0, 0, 1, 1, 0, 1, 0, 0, 0, 0, 0, 0, 0, 0, 1, 0, 1, 1,\n",
       "       0, 0, 0, 0, 0, 1, 1, 0, 0, 0, 0, 0, 0, 0, 0, 0, 0, 1, 1, 0, 0, 1,\n",
       "       0, 0, 0, 0, 0, 0, 1, 0, 1, 1, 0, 0, 0, 0, 0, 0, 0, 1, 0, 1, 0, 0,\n",
       "       0, 0, 0, 1, 0, 0, 1, 1, 0, 1, 0, 0, 0, 0, 0, 0, 0, 0, 1, 0, 1, 1,\n",
       "       1, 0, 0, 0, 0, 0, 0, 0, 1, 0, 1, 0, 0, 0, 0, 0, 0, 0, 0, 0, 0, 1,\n",
       "       1, 1, 0, 0, 1, 1, 0, 0, 0, 1, 1, 0, 0, 1, 0, 0, 1, 1, 0, 0, 0, 1,\n",
       "       0, 0, 0, 0, 0, 0, 1, 0, 0, 1, 0, 0, 1, 0, 0, 0, 0, 0, 0, 0, 1, 1,\n",
       "       1, 1, 1, 0, 1, 0, 0, 0, 0, 0, 0, 0, 0, 0, 1, 1, 1, 0, 0, 0, 1, 0,\n",
       "       1, 0, 0, 0, 0, 1, 0, 1, 0, 1, 1, 1, 0, 0, 1, 0, 0, 1, 0, 1, 1, 0,\n",
       "       1, 0, 1, 0, 0, 0, 0, 0, 0, 0, 0, 0, 0, 0, 0, 1, 1, 0, 1, 0, 0, 0,\n",
       "       0, 0, 0, 0, 1, 0, 0, 1, 0, 0, 0, 1, 1, 0, 1, 0, 0, 0, 0, 0, 0, 0,\n",
       "       0, 1, 0, 1, 0, 0, 0, 0, 1, 0, 0, 1, 0, 0, 0, 0, 0, 0, 0, 0, 1, 0,\n",
       "       0, 0, 0, 0, 0, 0, 0, 0, 0, 1, 1, 1, 0, 0, 0, 0, 0, 0, 0, 1, 0, 0,\n",
       "       0, 0, 1, 0, 0, 0, 1, 0, 0, 0, 0, 0, 0, 0, 0, 0, 0, 0, 1, 1, 0, 0,\n",
       "       0, 0, 1, 0, 0, 0, 0, 1, 1, 0, 0, 0, 0, 0, 0, 0, 0, 0, 0, 0, 0, 0,\n",
       "       0, 1, 0, 0, 0, 1, 1, 0, 0, 0, 1, 0, 0, 0, 0, 0, 0, 0, 1, 0, 1, 0,\n",
       "       0, 0, 1, 0, 0, 0, 0, 0, 0, 1, 0, 0, 1, 1, 0, 0, 1, 0, 0, 0, 0, 0,\n",
       "       1, 0, 1, 0, 0, 1, 0, 0, 1, 1, 0, 0, 0, 1, 0, 0, 1, 0, 0, 1, 0, 0,\n",
       "       1, 1, 0, 0, 0, 0, 1, 1, 0, 0, 0, 0, 0, 0, 0, 0, 0, 0, 0, 1, 1, 0,\n",
       "       0, 0, 0, 0, 0, 1, 0, 1, 0, 0, 0, 1, 0, 0, 0, 0, 0, 0, 1, 1, 0, 0,\n",
       "       0, 0, 0, 0, 0, 0, 0, 0, 0, 0, 0, 0, 1, 0, 0, 0, 0, 1, 1, 0, 0, 0,\n",
       "       0, 0, 0, 0, 0, 0, 0, 1, 1, 1, 0, 0, 0, 0, 1, 0, 0, 0, 0, 0, 1, 1,\n",
       "       1, 0, 0, 0, 1, 0, 0, 1, 1, 0, 0, 1, 0, 0, 0, 0, 0, 0, 0, 0, 1, 1,\n",
       "       0, 0, 0, 1, 0, 1, 0, 0, 1, 0, 0, 1, 1, 1, 0, 1, 0, 1, 0, 0, 0, 0,\n",
       "       0, 0, 1, 0, 0, 1, 0, 0, 0, 0, 0, 0, 1, 0, 1, 1, 0, 1, 0, 0, 0, 0,\n",
       "       0, 1, 0, 0, 1, 0, 0, 0, 1, 0, 0, 0, 1, 0, 0, 0, 1, 1, 1, 0, 1, 0,\n",
       "       0, 0, 0, 1, 0, 0, 0, 0, 0, 1, 0, 1, 0, 0, 0, 0, 1, 0, 0, 1, 0, 1,\n",
       "       1, 1, 0, 1, 0, 0, 0, 1, 0, 0, 1, 1, 0, 0, 0, 1, 0, 0, 0, 0, 0, 0,\n",
       "       0, 0, 0, 0, 1, 1, 1, 0, 1, 0, 0, 1, 1, 0, 0, 0, 0, 0, 0, 1, 1, 0,\n",
       "       0, 1, 0, 0, 0, 0, 1, 1, 1, 1, 1, 0, 0, 0, 0, 0, 0, 1, 0, 0, 0, 0,\n",
       "       0, 1, 1, 0, 1, 1, 0, 0, 0, 0, 0, 0, 0, 0, 1, 0, 0, 0, 0, 0, 0, 1,\n",
       "       0, 0, 0, 0, 0, 0, 1, 0, 0, 0, 0, 0, 1, 0, 0, 0, 0, 0, 1, 0, 1, 0,\n",
       "       1, 1, 0, 0, 1, 0, 0, 0, 1, 0, 1, 1, 0, 0, 1, 1, 0, 0, 0, 1, 0, 0,\n",
       "       0, 1, 1, 0, 0, 0, 1, 1, 0, 0, 0, 0, 0, 0, 0, 1, 0, 0, 0, 0, 0, 0,\n",
       "       1, 1, 0, 1, 0, 1, 0, 1, 0, 0, 0, 0, 0, 0, 0, 0, 1, 1, 1, 0, 0, 0,\n",
       "       1, 1, 1, 0, 0, 0, 0, 0, 0, 0, 0, 0, 0, 0, 0, 0, 0, 1, 0, 1, 0, 0,\n",
       "       0, 1, 0, 0, 1, 1, 0, 1, 0, 1, 0, 0, 1, 0, 0, 0, 1, 0, 1, 0, 0, 0,\n",
       "       0, 0, 0, 0, 1, 0, 1, 1, 1, 0, 0, 0, 1, 1, 0, 0, 0, 0, 0, 0, 0, 0,\n",
       "       0, 0, 0, 0, 1, 0, 0, 0, 0, 0, 0, 0, 0, 0, 0, 1, 0, 0, 0, 0, 1, 1,\n",
       "       1, 0, 1, 1, 1, 0, 1, 0, 0, 0, 0, 0, 0, 0, 1, 0, 0, 0, 1, 0, 1, 0,\n",
       "       1, 0, 1, 1, 0, 0, 1, 0, 0, 1, 0, 0, 0, 1, 1, 0, 0, 0, 1, 0, 0, 0,\n",
       "       0, 0, 1, 0, 0, 0, 1, 0, 0, 0, 1, 1, 0, 0, 1, 0, 0, 0, 1, 0, 1, 0,\n",
       "       0, 0, 0, 0, 0, 0, 1, 1, 0, 1], dtype=int64)"
      ]
     },
     "execution_count": 11,
     "metadata": {},
     "output_type": "execute_result"
    }
   ],
   "source": [
    "label = np.array(transactions['isFraud'])\n",
    "label"
   ]
  },
  {
   "cell_type": "markdown",
   "id": "2b784b99",
   "metadata": {},
   "source": [
    "#### Task 7\n",
    "Split the data into training and test sets using `sklearn`'s `train_test_split()` method. We’ll use the training set to train the model and the test set to evaluate the model. Use a `test_size` value of `0.3`."
   ]
  },
  {
   "cell_type": "code",
   "execution_count": 12,
   "id": "e7406635",
   "metadata": {},
   "outputs": [],
   "source": [
    "features_train, features_test, label_train, label_test = train_test_split(features, label, test_size = 0.3)"
   ]
  },
  {
   "cell_type": "markdown",
   "id": "43ac3fb5",
   "metadata": {},
   "source": [
    "#### Task 8\n",
    "Since `sklearn`'s Logistic Regression implementation uses Regularization, we need to scale our feature data. Create a `StandardScaler` object, `.fit_transform()` it on the training features, and `.transform()` the test features."
   ]
  },
  {
   "cell_type": "code",
   "execution_count": 13,
   "id": "7eddc00a",
   "metadata": {},
   "outputs": [],
   "source": [
    "scaler = StandardScaler()\n",
    "features_train = scaler.fit_transform(features_train)\n",
    "features_test = scaler.transform(features_test)"
   ]
  },
  {
   "cell_type": "markdown",
   "id": "c7f45781",
   "metadata": {},
   "source": [
    "#### Task 9\n",
    "Create a `LogisticRegression` model with `sklearn` and `.fit()` it on the training data with the default threshold of 0.5."
   ]
  },
  {
   "cell_type": "code",
   "execution_count": 14,
   "id": "63b8ebfa",
   "metadata": {},
   "outputs": [
    {
     "data": {
      "text/html": [
       "<style>#sk-container-id-1 {color: black;background-color: white;}#sk-container-id-1 pre{padding: 0;}#sk-container-id-1 div.sk-toggleable {background-color: white;}#sk-container-id-1 label.sk-toggleable__label {cursor: pointer;display: block;width: 100%;margin-bottom: 0;padding: 0.3em;box-sizing: border-box;text-align: center;}#sk-container-id-1 label.sk-toggleable__label-arrow:before {content: \"▸\";float: left;margin-right: 0.25em;color: #696969;}#sk-container-id-1 label.sk-toggleable__label-arrow:hover:before {color: black;}#sk-container-id-1 div.sk-estimator:hover label.sk-toggleable__label-arrow:before {color: black;}#sk-container-id-1 div.sk-toggleable__content {max-height: 0;max-width: 0;overflow: hidden;text-align: left;background-color: #f0f8ff;}#sk-container-id-1 div.sk-toggleable__content pre {margin: 0.2em;color: black;border-radius: 0.25em;background-color: #f0f8ff;}#sk-container-id-1 input.sk-toggleable__control:checked~div.sk-toggleable__content {max-height: 200px;max-width: 100%;overflow: auto;}#sk-container-id-1 input.sk-toggleable__control:checked~label.sk-toggleable__label-arrow:before {content: \"▾\";}#sk-container-id-1 div.sk-estimator input.sk-toggleable__control:checked~label.sk-toggleable__label {background-color: #d4ebff;}#sk-container-id-1 div.sk-label input.sk-toggleable__control:checked~label.sk-toggleable__label {background-color: #d4ebff;}#sk-container-id-1 input.sk-hidden--visually {border: 0;clip: rect(1px 1px 1px 1px);clip: rect(1px, 1px, 1px, 1px);height: 1px;margin: -1px;overflow: hidden;padding: 0;position: absolute;width: 1px;}#sk-container-id-1 div.sk-estimator {font-family: monospace;background-color: #f0f8ff;border: 1px dotted black;border-radius: 0.25em;box-sizing: border-box;margin-bottom: 0.5em;}#sk-container-id-1 div.sk-estimator:hover {background-color: #d4ebff;}#sk-container-id-1 div.sk-parallel-item::after {content: \"\";width: 100%;border-bottom: 1px solid gray;flex-grow: 1;}#sk-container-id-1 div.sk-label:hover label.sk-toggleable__label {background-color: #d4ebff;}#sk-container-id-1 div.sk-serial::before {content: \"\";position: absolute;border-left: 1px solid gray;box-sizing: border-box;top: 0;bottom: 0;left: 50%;z-index: 0;}#sk-container-id-1 div.sk-serial {display: flex;flex-direction: column;align-items: center;background-color: white;padding-right: 0.2em;padding-left: 0.2em;position: relative;}#sk-container-id-1 div.sk-item {position: relative;z-index: 1;}#sk-container-id-1 div.sk-parallel {display: flex;align-items: stretch;justify-content: center;background-color: white;position: relative;}#sk-container-id-1 div.sk-item::before, #sk-container-id-1 div.sk-parallel-item::before {content: \"\";position: absolute;border-left: 1px solid gray;box-sizing: border-box;top: 0;bottom: 0;left: 50%;z-index: -1;}#sk-container-id-1 div.sk-parallel-item {display: flex;flex-direction: column;z-index: 1;position: relative;background-color: white;}#sk-container-id-1 div.sk-parallel-item:first-child::after {align-self: flex-end;width: 50%;}#sk-container-id-1 div.sk-parallel-item:last-child::after {align-self: flex-start;width: 50%;}#sk-container-id-1 div.sk-parallel-item:only-child::after {width: 0;}#sk-container-id-1 div.sk-dashed-wrapped {border: 1px dashed gray;margin: 0 0.4em 0.5em 0.4em;box-sizing: border-box;padding-bottom: 0.4em;background-color: white;}#sk-container-id-1 div.sk-label label {font-family: monospace;font-weight: bold;display: inline-block;line-height: 1.2em;}#sk-container-id-1 div.sk-label-container {text-align: center;}#sk-container-id-1 div.sk-container {/* jupyter's `normalize.less` sets `[hidden] { display: none; }` but bootstrap.min.css set `[hidden] { display: none !important; }` so we also need the `!important` here to be able to override the default hidden behavior on the sphinx rendered scikit-learn.org. See: https://github.com/scikit-learn/scikit-learn/issues/21755 */display: inline-block !important;position: relative;}#sk-container-id-1 div.sk-text-repr-fallback {display: none;}</style><div id=\"sk-container-id-1\" class=\"sk-top-container\"><div class=\"sk-text-repr-fallback\"><pre>LogisticRegression()</pre><b>In a Jupyter environment, please rerun this cell to show the HTML representation or trust the notebook. <br />On GitHub, the HTML representation is unable to render, please try loading this page with nbviewer.org.</b></div><div class=\"sk-container\" hidden><div class=\"sk-item\"><div class=\"sk-estimator sk-toggleable\"><input class=\"sk-toggleable__control sk-hidden--visually\" id=\"sk-estimator-id-1\" type=\"checkbox\" checked><label for=\"sk-estimator-id-1\" class=\"sk-toggleable__label sk-toggleable__label-arrow\">LogisticRegression</label><div class=\"sk-toggleable__content\"><pre>LogisticRegression()</pre></div></div></div></div></div>"
      ],
      "text/plain": [
       "LogisticRegression()"
      ]
     },
     "execution_count": 14,
     "metadata": {},
     "output_type": "execute_result"
    }
   ],
   "source": [
    "model = LogisticRegression()\n",
    "model.fit(features_train, label_train)"
   ]
  },
  {
   "cell_type": "markdown",
   "id": "601df14a",
   "metadata": {},
   "source": [
    "#### Task 10\n",
    "Run the model’s `.score()` method on the training data and print the training score.\n",
    "\n",
    "Scoring the model on the training data will process the training data through the trained model and will predict which transactions are fraudulent. The score returned is the percentage of correct classifications, or the accuracy."
   ]
  },
  {
   "cell_type": "code",
   "execution_count": 15,
   "id": "29c19414",
   "metadata": {},
   "outputs": [
    {
     "data": {
      "text/plain": [
       "0.8571428571428571"
      ]
     },
     "execution_count": 15,
     "metadata": {},
     "output_type": "execute_result"
    }
   ],
   "source": [
    "model.score(features_train, label_train)"
   ]
  },
  {
   "cell_type": "markdown",
   "id": "62173fdd",
   "metadata": {},
   "source": [
    "#### Task 11\n",
    "Similarly, run the model’s `.score()` method on the test data and print the test score.\n",
    "\n",
    "Scoring the model on the test data will process the test data through the trained model and will predict which transactions are fraudulent. The score returned is the percentage of correct classifications, or the accuracy, and will be an indicator for the success of your model.\n",
    "\n",
    "How did your model perform?"
   ]
  },
  {
   "cell_type": "code",
   "execution_count": 16,
   "id": "d883ebee",
   "metadata": {},
   "outputs": [
    {
     "data": {
      "text/plain": [
       "0.84"
      ]
     },
     "execution_count": 16,
     "metadata": {},
     "output_type": "execute_result"
    }
   ],
   "source": [
    "model.score(features_test, label_test)"
   ]
  },
  {
   "cell_type": "markdown",
   "id": "03f0a867",
   "metadata": {},
   "source": [
    "#### Task 12\n",
    "Print the coefficients for our model to see how important each feature column was for prediction. Which feature was most important? Least important?"
   ]
  },
  {
   "cell_type": "code",
   "execution_count": 17,
   "id": "7f54887a",
   "metadata": {},
   "outputs": [
    {
     "data": {
      "text/plain": [
       "array([[ 1.86228204, -0.14420122,  3.40689254, -1.16647397]])"
      ]
     },
     "execution_count": 17,
     "metadata": {},
     "output_type": "execute_result"
    }
   ],
   "source": [
    "model.coef_"
   ]
  },
  {
   "cell_type": "markdown",
   "id": "ec0090bd",
   "metadata": {},
   "source": [
    "#### Task 13\n",
    "Let’s use our model to process more transactions that have gone through our systems. Below are three numpy arrays with information on new sample transactions:\n",
    "\n",
    "`transaction1 = np.array([123456.78, 0.0, 1.0, 54670.1])` <br>\n",
    "`transaction2 = np.array([98765.43, 1.0, 0.0, 8524.75])` <br>\n",
    "`transaction3 = np.array([543678.31, 1.0, 0.0, 510025.5])`\n",
    "\n",
    "Create a fourth array, `your_transaction`, and add any transaction information you’d like."
   ]
  },
  {
   "cell_type": "code",
   "execution_count": 18,
   "id": "82520cc3",
   "metadata": {},
   "outputs": [],
   "source": [
    "your_transaction = np.array([3341.12, 0.0, 0.0, 133322.5])"
   ]
  },
  {
   "cell_type": "markdown",
   "id": "7c4d9117",
   "metadata": {},
   "source": [
    "#### Task 14\n",
    "Combine the new transactions and `your_transaction` into a single numpy array called `sample_transactions`."
   ]
  },
  {
   "cell_type": "code",
   "execution_count": 19,
   "id": "a5036516",
   "metadata": {},
   "outputs": [
    {
     "data": {
      "text/plain": [
       "array([[1.2345678e+05, 0.0000000e+00, 1.0000000e+00, 5.4670100e+04],\n",
       "       [9.8765430e+04, 1.0000000e+00, 0.0000000e+00, 8.5247500e+03],\n",
       "       [5.4367831e+05, 1.0000000e+00, 0.0000000e+00, 5.1002550e+05],\n",
       "       [3.3411200e+03, 0.0000000e+00, 0.0000000e+00, 1.3332250e+05]])"
      ]
     },
     "execution_count": 19,
     "metadata": {},
     "output_type": "execute_result"
    }
   ],
   "source": [
    "transaction1 = np.array([123456.78, 0.0, 1.0, 54670.1])\n",
    "transaction2 = np.array([98765.43, 1.0, 0.0, 8524.75])\n",
    "transaction3 = np.array([543678.31, 1.0, 0.0, 510025.5])\n",
    "\n",
    "sample_transactions = np.stack((transaction1, transaction2, transaction3, your_transaction))\n",
    "sample_transactions"
   ]
  },
  {
   "cell_type": "markdown",
   "id": "90aa7669",
   "metadata": {},
   "source": [
    "#### Task 15\n",
    "Since our Logistic Regression model was trained on scaled feature data, we must also scale the feature data we are making predictions on. Using the `StandardScaler` object created earlier, apply its `.transform()` method to `sample_transactions` and save the result to `sample_transactions`."
   ]
  },
  {
   "cell_type": "code",
   "execution_count": 20,
   "id": "557fd804",
   "metadata": {},
   "outputs": [
    {
     "data": {
      "text/plain": [
       "array([[-0.28725112, -0.53550416,  0.83115658,  0.03307497],\n",
       "       [-0.30395906,  1.86739912, -1.20314274,  0.02137862],\n",
       "       [-0.00289914,  1.86739912, -1.20314274,  0.14849278],\n",
       "       [-0.36852998, -0.53550416, -1.20314274,  0.0530108 ]])"
      ]
     },
     "execution_count": 20,
     "metadata": {},
     "output_type": "execute_result"
    }
   ],
   "source": [
    "sample_transactions = scaler.transform(sample_transactions)\n",
    "sample_transactions"
   ]
  },
  {
   "cell_type": "markdown",
   "id": "9e670ed0",
   "metadata": {},
   "source": [
    "#### Task 16\n",
    "Which transactions are fraudulent? Use your model’s `.predict()` method on `sample_transactions` and print the result to find out.\n",
    "\n",
    "Want to see the probabilities that led to these predictions? Call your model’s `.predict_proba()` method on `sample_transactions` and print the result."
   ]
  },
  {
   "cell_type": "code",
   "execution_count": 21,
   "id": "6a56deca",
   "metadata": {},
   "outputs": [
    {
     "data": {
      "text/plain": [
       "array([0, 0, 0, 0], dtype=int64)"
      ]
     },
     "execution_count": 21,
     "metadata": {},
     "output_type": "execute_result"
    }
   ],
   "source": [
    "model.predict(sample_transactions)"
   ]
  },
  {
   "cell_type": "code",
   "execution_count": 22,
   "id": "21ac871d",
   "metadata": {},
   "outputs": [
    {
     "data": {
      "text/plain": [
       "array([0.38477334, 0.0004246 , 0.00064118, 0.00051307])"
      ]
     },
     "execution_count": 22,
     "metadata": {},
     "output_type": "execute_result"
    }
   ],
   "source": [
    "model.predict_proba(sample_transactions)[:,1]"
   ]
  }
 ],
 "metadata": {
  "kernelspec": {
   "display_name": "Python 3 (ipykernel)",
   "language": "python",
   "name": "python3"
  },
  "language_info": {
   "codemirror_mode": {
    "name": "ipython",
    "version": 3
   },
   "file_extension": ".py",
   "mimetype": "text/x-python",
   "name": "python",
   "nbconvert_exporter": "python",
   "pygments_lexer": "ipython3",
   "version": "3.11.7"
  }
 },
 "nbformat": 4,
 "nbformat_minor": 5
}
